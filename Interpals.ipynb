{
 "cells": [
  {
   "cell_type": "markdown",
   "id": "38947eb4",
   "metadata": {},
   "source": [
    "<h1><p><center><font color=green>A Fun Project to check the most blocked country on the internet</font></center></p></h1>\n",
    "<h3><p><center><i><font color=blue>by Oguche Adah Peter</font></i></center></p></h3>\n",
    "<h4><p><center><font color=red>Date: April 15th, 2024</font></center></p></h4>\n"
   ]
  },
  {
   "cell_type": "markdown",
   "id": "53a970a6",
   "metadata": {},
   "source": [
    "I first signed up for Interpals on www.interpals.net in 2014 because I needed a window to ocassionally escape from the mental torture of studying Electrical Engineering in a Nigerian public university. The website served this purpose effectively as I connected with people from different countries and cultures, some of whom I still talk to. My interest in learning Finnish all started here after I met some really cool Finns!\n",
    "\n",
    "Over the years I realised that there are some people on this site who I cannot connect with. No, I wasn't blocked. Filters on this site lets one to block a country or countries, entire continents or genders.\n",
    "\n",
    "Some of these profiles that I can't connect to describe themselves with words like \"down-to-earth\", \"open-minded\", \"welcoming\"... But how can one be any of these and still block an entire country or continent from connecting with them? \n",
    "\n",
    "Hypocricy is that you? Just kidding!\n",
    "\n",
    "In this pet project, I want to analyze a sample of users whose profile details I pulled from the website in order to:\n",
    "<p>~ Determine how many users block at least one country or continent</p>\n",
    "<p>~ Check the most blocked country(ies) and continent(s)</p>\n",
    "\n",
    "\n",
    "\n",
    "\n",
    "\n",
    "<p> As at the time I started this project, my webscrapping skills were bananas so I had to mannually pull user profile data from the website into a <b>.csv</b> file</p>\n",
    "\n",
    "\n",
    "I decided on a sample size of <b>3000</b> distributed evenly across continents and gender.\n",
    "The dataset contains <b>500</b> profiles from <b>each</b> continent. There are <b>250 Female</b> and <b>250 Male</b> profiles from each continent.\n",
    "To avoid involving spam accounts in my dataset, only profiles that have been active for at least one year were included."
   ]
  },
  {
   "cell_type": "markdown",
   "id": "90514024",
   "metadata": {},
   "source": [
    "We begin by importing the the necesarry python libraries"
   ]
  },
  {
   "cell_type": "code",
   "execution_count": 1,
   "id": "c8d740af",
   "metadata": {},
   "outputs": [],
   "source": [
    "import pandas as pd\n",
    "import numpy as np"
   ]
  },
  {
   "cell_type": "markdown",
   "id": "e3ed6448",
   "metadata": {},
   "source": [
    "Next, let us import the dataset using the <b>.read_csv()</b> function of the pandas library.\n",
    "We shall assign the name \"interpals\""
   ]
  },
  {
   "cell_type": "code",
   "execution_count": 2,
   "id": "eac9dd60",
   "metadata": {},
   "outputs": [],
   "source": [
    "interpals = pd.read_csv('interpals.csv')"
   ]
  },
  {
   "cell_type": "code",
   "execution_count": 3,
   "id": "2b5d99c2",
   "metadata": {
    "scrolled": true
   },
   "outputs": [
    {
     "data": {
      "text/html": [
       "<div>\n",
       "<style scoped>\n",
       "    .dataframe tbody tr th:only-of-type {\n",
       "        vertical-align: middle;\n",
       "    }\n",
       "\n",
       "    .dataframe tbody tr th {\n",
       "        vertical-align: top;\n",
       "    }\n",
       "\n",
       "    .dataframe thead th {\n",
       "        text-align: right;\n",
       "    }\n",
       "</style>\n",
       "<table border=\"1\" class=\"dataframe\">\n",
       "  <thead>\n",
       "    <tr style=\"text-align: right;\">\n",
       "      <th></th>\n",
       "      <th>Username</th>\n",
       "      <th>Gender</th>\n",
       "      <th>Age</th>\n",
       "      <th>Continent</th>\n",
       "      <th>Country</th>\n",
       "      <th>Languages\\n spoken</th>\n",
       "      <th>Languages \\nLearning</th>\n",
       "      <th>Status</th>\n",
       "      <th>Acct. age</th>\n",
       "      <th>Blocked \\nContinent</th>\n",
       "      <th>Blocked \\nCountry</th>\n",
       "      <th>Blocked\\nSex</th>\n",
       "    </tr>\n",
       "  </thead>\n",
       "  <tbody>\n",
       "  </tbody>\n",
       "</table>\n",
       "</div>"
      ],
      "text/plain": [
       "Empty DataFrame\n",
       "Columns: [Username , Gender, Age, Continent, Country, Languages\n",
       " spoken, Languages \n",
       "Learning, Status, Acct. age, Blocked \n",
       "Continent, Blocked \n",
       "Country, Blocked\n",
       "Sex]\n",
       "Index: []"
      ]
     },
     "execution_count": 3,
     "metadata": {},
     "output_type": "execute_result"
    }
   ],
   "source": [
    "#Here is the dataframe\n",
    "interpals.head(0)"
   ]
  },
  {
   "cell_type": "code",
   "execution_count": 4,
   "id": "406a6529",
   "metadata": {
    "scrolled": true
   },
   "outputs": [
    {
     "data": {
      "text/plain": [
       "Index(['Username ', 'Gender', 'Age', 'Continent', 'Country',\n",
       "       'Languages\\n spoken', 'Languages \\nLearning', 'Status', 'Acct. age',\n",
       "       'Blocked \\nContinent', 'Blocked \\nCountry', 'Blocked\\nSex'],\n",
       "      dtype='object')"
      ]
     },
     "execution_count": 4,
     "metadata": {},
     "output_type": "execute_result"
    }
   ],
   "source": [
    "interpals.columns"
   ]
  },
  {
   "cell_type": "markdown",
   "id": "3a745c2f",
   "metadata": {},
   "source": [
    "The column names do not look tidy so we shall use the <b>.rename(columns={})</b> function to rename the column headers to meet standards"
   ]
  },
  {
   "cell_type": "code",
   "execution_count": 5,
   "id": "56899202",
   "metadata": {
    "scrolled": true
   },
   "outputs": [
    {
     "data": {
      "text/html": [
       "<div>\n",
       "<style scoped>\n",
       "    .dataframe tbody tr th:only-of-type {\n",
       "        vertical-align: middle;\n",
       "    }\n",
       "\n",
       "    .dataframe tbody tr th {\n",
       "        vertical-align: top;\n",
       "    }\n",
       "\n",
       "    .dataframe thead th {\n",
       "        text-align: right;\n",
       "    }\n",
       "</style>\n",
       "<table border=\"1\" class=\"dataframe\">\n",
       "  <thead>\n",
       "    <tr style=\"text-align: right;\">\n",
       "      <th></th>\n",
       "      <th>username</th>\n",
       "      <th>gender</th>\n",
       "      <th>age</th>\n",
       "      <th>continent</th>\n",
       "      <th>country</th>\n",
       "      <th>lang_spoken</th>\n",
       "      <th>lang_learning</th>\n",
       "      <th>status</th>\n",
       "      <th>acct_age</th>\n",
       "      <th>blocked_continent</th>\n",
       "      <th>blocked_country</th>\n",
       "      <th>blocked_sex</th>\n",
       "    </tr>\n",
       "  </thead>\n",
       "  <tbody>\n",
       "  </tbody>\n",
       "</table>\n",
       "</div>"
      ],
      "text/plain": [
       "Empty DataFrame\n",
       "Columns: [username, gender, age, continent, country, lang_spoken, lang_learning, status, acct_age, blocked_continent, blocked_country, blocked_sex]\n",
       "Index: []"
      ]
     },
     "execution_count": 5,
     "metadata": {},
     "output_type": "execute_result"
    }
   ],
   "source": [
    "interpals.rename(columns = {'Username ':'username', 'Gender':'gender', 'Age':'age', 'Continent':'continent',\n",
    "                            'Country':'country','Languages\\n spoken':'lang_spoken', 'Languages \\nLearning':'lang_learning',\n",
    "                           'Status':'status','Acct. age':'acct_age', 'Blocked \\nContinent':'blocked_continent',\n",
    "                           'Blocked \\nCountry':'blocked_country', 'Blocked\\nSex':'blocked_sex'}, inplace = True)\n",
    "interpals.head(0)"
   ]
  },
  {
   "cell_type": "markdown",
   "id": "b41a430c",
   "metadata": {},
   "source": [
    "Let us explore some descriptive statistics of our dataset"
   ]
  },
  {
   "cell_type": "code",
   "execution_count": 6,
   "id": "55e203c1",
   "metadata": {},
   "outputs": [
    {
     "data": {
      "text/plain": [
       "3000"
      ]
     },
     "execution_count": 6,
     "metadata": {},
     "output_type": "execute_result"
    }
   ],
   "source": [
    "#checking for the number of records\n",
    "len(interpals.index)"
   ]
  },
  {
   "cell_type": "markdown",
   "id": "c31dd16a",
   "metadata": {},
   "source": [
    "This does not tell us whether or not some values are repeated.\n",
    "So, next, we check for distinct values using the <b>.nunique()</b> method"
   ]
  },
  {
   "cell_type": "code",
   "execution_count": 7,
   "id": "e2444dd3",
   "metadata": {},
   "outputs": [
    {
     "data": {
      "text/plain": [
       "3000"
      ]
     },
     "execution_count": 7,
     "metadata": {},
     "output_type": "execute_result"
    }
   ],
   "source": [
    "interpals['username'].nunique()"
   ]
  },
  {
   "cell_type": "markdown",
   "id": "97ef2ea5",
   "metadata": {},
   "source": [
    "Since the number of Unique usernames is equal to the number of usernames, we can conclude that there are no duplicated enteries. <h6>woohoo!</h6> Two weeks of collecting CLEAN data, <b>Check!</b> "
   ]
  },
  {
   "cell_type": "markdown",
   "id": "87d3083d",
   "metadata": {},
   "source": [
    "Next, we examine the continent and country coulums to determine if all continents are represented and to also check the number of countries represented"
   ]
  },
  {
   "cell_type": "code",
   "execution_count": 8,
   "id": "1ac0cc3e",
   "metadata": {},
   "outputs": [
    {
     "data": {
      "text/plain": [
       "6"
      ]
     },
     "execution_count": 8,
     "metadata": {},
     "output_type": "execute_result"
    }
   ],
   "source": [
    "#How many continents are represented?\n",
    "interpals['continent'].nunique()"
   ]
  },
  {
   "cell_type": "code",
   "execution_count": 9,
   "id": "57cf03eb",
   "metadata": {},
   "outputs": [
    {
     "data": {
      "text/plain": [
       "144"
      ]
     },
     "execution_count": 9,
     "metadata": {},
     "output_type": "execute_result"
    }
   ],
   "source": [
    "#How many countries are represented?\n",
    "interpals['country'].nunique()"
   ]
  },
  {
   "cell_type": "code",
   "execution_count": 10,
   "id": "5e5a0c60",
   "metadata": {},
   "outputs": [
    {
     "data": {
      "text/plain": [
       "2"
      ]
     },
     "execution_count": 10,
     "metadata": {},
     "output_type": "execute_result"
    }
   ],
   "source": [
    "#Genders represented\n",
    "interpals['gender'].nunique()"
   ]
  },
  {
   "cell_type": "code",
   "execution_count": 11,
   "id": "d65db82f",
   "metadata": {},
   "outputs": [
    {
     "data": {
      "text/plain": [
       "M    1500\n",
       "F    1500\n",
       "Name: gender, dtype: int64"
      ]
     },
     "execution_count": 11,
     "metadata": {},
     "output_type": "execute_result"
    }
   ],
   "source": [
    "gender_counts = interpals['gender'].value_counts()\n",
    "gender_counts"
   ]
  },
  {
   "cell_type": "markdown",
   "id": "c033d73e",
   "metadata": {},
   "source": [
    "So in the dataset, we have a total of <b>1500 Males</b> and <b>1500 Females</b> evenly distributed across <b>144 countries</b> from <b>6 continents</b>"
   ]
  },
  {
   "cell_type": "markdown",
   "id": "fc0a2987",
   "metadata": {},
   "source": [
    "Now we query the dataset to draw only the users that blocked at least one country.\n",
    "<p>This is the point where I confess my undying love for the <b>.query()</b> function</p>"
   ]
  },
  {
   "cell_type": "code",
   "execution_count": 14,
   "id": "f6fba345",
   "metadata": {},
   "outputs": [],
   "source": [
    "#python query to pull data of only the users that blocked at least one country and create a new dataset\n",
    "blockedCountries = interpals.query(\"blocked_country!='0'\")"
   ]
  },
  {
   "cell_type": "markdown",
   "id": "d6cbff1c",
   "metadata": {},
   "source": [
    "<b><font color=red><h7>To protect the privacy of users, I will drop the \"username\" column since I intend to make this notebook public</h7></font></b>"
   ]
  },
  {
   "cell_type": "code",
   "execution_count": 22,
   "id": "4f3ec850",
   "metadata": {},
   "outputs": [
    {
     "data": {
      "text/html": [
       "<div>\n",
       "<style scoped>\n",
       "    .dataframe tbody tr th:only-of-type {\n",
       "        vertical-align: middle;\n",
       "    }\n",
       "\n",
       "    .dataframe tbody tr th {\n",
       "        vertical-align: top;\n",
       "    }\n",
       "\n",
       "    .dataframe thead th {\n",
       "        text-align: right;\n",
       "    }\n",
       "</style>\n",
       "<table border=\"1\" class=\"dataframe\">\n",
       "  <thead>\n",
       "    <tr style=\"text-align: right;\">\n",
       "      <th></th>\n",
       "      <th>gender</th>\n",
       "      <th>age</th>\n",
       "      <th>continent</th>\n",
       "      <th>country</th>\n",
       "      <th>lang_spoken</th>\n",
       "      <th>lang_learning</th>\n",
       "      <th>status</th>\n",
       "      <th>acct_age</th>\n",
       "      <th>blocked_continent</th>\n",
       "      <th>blocked_country</th>\n",
       "      <th>blocked_sex</th>\n",
       "    </tr>\n",
       "  </thead>\n",
       "  <tbody>\n",
       "    <tr>\n",
       "      <th>4</th>\n",
       "      <td>F</td>\n",
       "      <td>37</td>\n",
       "      <td>Europe</td>\n",
       "      <td>Russia</td>\n",
       "      <td>2</td>\n",
       "      <td>1</td>\n",
       "      <td>99</td>\n",
       "      <td>5</td>\n",
       "      <td>0</td>\n",
       "      <td>Turkey, Algeria</td>\n",
       "      <td>0</td>\n",
       "    </tr>\n",
       "    <tr>\n",
       "      <th>13</th>\n",
       "      <td>M</td>\n",
       "      <td>35</td>\n",
       "      <td>Asia</td>\n",
       "      <td>India</td>\n",
       "      <td>3</td>\n",
       "      <td>2</td>\n",
       "      <td>0</td>\n",
       "      <td>1</td>\n",
       "      <td>0</td>\n",
       "      <td>Oman</td>\n",
       "      <td>0</td>\n",
       "    </tr>\n",
       "    <tr>\n",
       "      <th>16</th>\n",
       "      <td>F</td>\n",
       "      <td>23</td>\n",
       "      <td>Europe</td>\n",
       "      <td>Russia</td>\n",
       "      <td>2</td>\n",
       "      <td>3</td>\n",
       "      <td>0</td>\n",
       "      <td>1</td>\n",
       "      <td>0</td>\n",
       "      <td>Tunisia, Albania, Algeria, Azerbaijan, Iran, I...</td>\n",
       "      <td>0</td>\n",
       "    </tr>\n",
       "    <tr>\n",
       "      <th>17</th>\n",
       "      <td>F</td>\n",
       "      <td>23</td>\n",
       "      <td>North America</td>\n",
       "      <td>Mexico</td>\n",
       "      <td>2</td>\n",
       "      <td>0</td>\n",
       "      <td>99</td>\n",
       "      <td>2</td>\n",
       "      <td>Africa, Europe, North America</td>\n",
       "      <td>Turkey, Pakistan, India</td>\n",
       "      <td>0</td>\n",
       "    </tr>\n",
       "    <tr>\n",
       "      <th>18</th>\n",
       "      <td>M</td>\n",
       "      <td>46</td>\n",
       "      <td>Europe</td>\n",
       "      <td>United Kingdom</td>\n",
       "      <td>1</td>\n",
       "      <td>1</td>\n",
       "      <td>99</td>\n",
       "      <td>2</td>\n",
       "      <td>Africa</td>\n",
       "      <td>Philipines, China</td>\n",
       "      <td>0</td>\n",
       "    </tr>\n",
       "    <tr>\n",
       "      <th>...</th>\n",
       "      <td>...</td>\n",
       "      <td>...</td>\n",
       "      <td>...</td>\n",
       "      <td>...</td>\n",
       "      <td>...</td>\n",
       "      <td>...</td>\n",
       "      <td>...</td>\n",
       "      <td>...</td>\n",
       "      <td>...</td>\n",
       "      <td>...</td>\n",
       "      <td>...</td>\n",
       "    </tr>\n",
       "    <tr>\n",
       "      <th>2959</th>\n",
       "      <td>F</td>\n",
       "      <td>26</td>\n",
       "      <td>Europe</td>\n",
       "      <td>Russia</td>\n",
       "      <td>2</td>\n",
       "      <td>2</td>\n",
       "      <td>1</td>\n",
       "      <td>10</td>\n",
       "      <td>0</td>\n",
       "      <td>Algeria, Indonesia, Morocco, Pakistan, Turkey,...</td>\n",
       "      <td>0</td>\n",
       "    </tr>\n",
       "    <tr>\n",
       "      <th>2965</th>\n",
       "      <td>M</td>\n",
       "      <td>44</td>\n",
       "      <td>Australia</td>\n",
       "      <td>Australia</td>\n",
       "      <td>3</td>\n",
       "      <td>1</td>\n",
       "      <td>0</td>\n",
       "      <td>13</td>\n",
       "      <td>Africa</td>\n",
       "      <td>China</td>\n",
       "      <td>0</td>\n",
       "    </tr>\n",
       "    <tr>\n",
       "      <th>2982</th>\n",
       "      <td>F</td>\n",
       "      <td>45</td>\n",
       "      <td>Asia</td>\n",
       "      <td>Japan</td>\n",
       "      <td>1</td>\n",
       "      <td>2</td>\n",
       "      <td>0</td>\n",
       "      <td>1</td>\n",
       "      <td>Africa</td>\n",
       "      <td>Afghanistan, China, South Korea, Philipines</td>\n",
       "      <td>0</td>\n",
       "    </tr>\n",
       "    <tr>\n",
       "      <th>2988</th>\n",
       "      <td>F</td>\n",
       "      <td>59</td>\n",
       "      <td>Africa</td>\n",
       "      <td>South Africa</td>\n",
       "      <td>1</td>\n",
       "      <td>0</td>\n",
       "      <td>99</td>\n",
       "      <td>1</td>\n",
       "      <td>Africa</td>\n",
       "      <td>Sri Lanka</td>\n",
       "      <td>0</td>\n",
       "    </tr>\n",
       "    <tr>\n",
       "      <th>2989</th>\n",
       "      <td>F</td>\n",
       "      <td>19</td>\n",
       "      <td>Africa</td>\n",
       "      <td>Morocco</td>\n",
       "      <td>3</td>\n",
       "      <td>0</td>\n",
       "      <td>0</td>\n",
       "      <td>2</td>\n",
       "      <td>0</td>\n",
       "      <td>Morocco, Algeria</td>\n",
       "      <td>0</td>\n",
       "    </tr>\n",
       "  </tbody>\n",
       "</table>\n",
       "<p>552 rows × 11 columns</p>\n",
       "</div>"
      ],
      "text/plain": [
       "     gender  age      continent         country  lang_spoken  lang_learning  \\\n",
       "4         F   37         Europe          Russia            2              1   \n",
       "13        M   35           Asia           India            3              2   \n",
       "16        F   23         Europe          Russia            2              3   \n",
       "17        F   23  North America          Mexico            2              0   \n",
       "18        M   46         Europe  United Kingdom            1              1   \n",
       "...     ...  ...            ...             ...          ...            ...   \n",
       "2959      F   26         Europe          Russia            2              2   \n",
       "2965      M   44      Australia       Australia            3              1   \n",
       "2982      F   45           Asia           Japan            1              2   \n",
       "2988      F   59         Africa    South Africa            1              0   \n",
       "2989      F   19         Africa         Morocco            3              0   \n",
       "\n",
       "      status  acct_age              blocked_continent  \\\n",
       "4         99         5                              0   \n",
       "13         0         1                              0   \n",
       "16         0         1                              0   \n",
       "17        99         2  Africa, Europe, North America   \n",
       "18        99         2                         Africa   \n",
       "...      ...       ...                            ...   \n",
       "2959       1        10                              0   \n",
       "2965       0        13                         Africa   \n",
       "2982       0         1                         Africa   \n",
       "2988      99         1                         Africa   \n",
       "2989       0         2                              0   \n",
       "\n",
       "                                        blocked_country blocked_sex  \n",
       "4                                       Turkey, Algeria           0  \n",
       "13                                                 Oman           0  \n",
       "16    Tunisia, Albania, Algeria, Azerbaijan, Iran, I...           0  \n",
       "17                              Turkey, Pakistan, India           0  \n",
       "18                                    Philipines, China           0  \n",
       "...                                                 ...         ...  \n",
       "2959  Algeria, Indonesia, Morocco, Pakistan, Turkey,...           0  \n",
       "2965                                              China           0  \n",
       "2982        Afghanistan, China, South Korea, Philipines           0  \n",
       "2988                                          Sri Lanka           0  \n",
       "2989                                   Morocco, Algeria           0  \n",
       "\n",
       "[552 rows x 11 columns]"
      ]
     },
     "execution_count": 22,
     "metadata": {},
     "output_type": "execute_result"
    }
   ],
   "source": [
    "blockedCountries.drop(['username'], axis=1)\n"
   ]
  },
  {
   "cell_type": "code",
   "execution_count": null,
   "id": "58398cd3",
   "metadata": {
    "scrolled": true
   },
   "outputs": [],
   "source": []
  },
  {
   "cell_type": "code",
   "execution_count": 23,
   "id": "d52e2e5d",
   "metadata": {},
   "outputs": [
    {
     "data": {
      "text/plain": [
       "552"
      ]
     },
     "execution_count": 23,
     "metadata": {},
     "output_type": "execute_result"
    }
   ],
   "source": [
    "blockedCountries['username'].nunique()"
   ]
  },
  {
   "cell_type": "markdown",
   "id": "1517fea6",
   "metadata": {},
   "source": [
    "<b>552</b> users blocked at least one country!"
   ]
  },
  {
   "cell_type": "code",
   "execution_count": 24,
   "id": "5e1b77fd",
   "metadata": {},
   "outputs": [
    {
     "name": "stdout",
     "output_type": "stream",
     "text": [
      "18.4\n"
     ]
    }
   ],
   "source": [
    "percentage_of_blocked = ((blockedCountries['username'].nunique()/interpals['username'].nunique())*100)\n",
    "print(percentage_of_blocked)"
   ]
  },
  {
   "cell_type": "markdown",
   "id": "7d57b631",
   "metadata": {},
   "source": [
    "About <font color=red><h7>18.4%</h7></font> of all users blocked at least one country from contacting them"
   ]
  },
  {
   "cell_type": "markdown",
   "id": "fccd3bd6",
   "metadata": {},
   "source": [
    "Now we examine the percentage of users that blocked an entire continent"
   ]
  },
  {
   "cell_type": "code",
   "execution_count": 26,
   "id": "2cabd53b",
   "metadata": {
    "scrolled": true
   },
   "outputs": [],
   "source": [
    "blockedContinent = interpals.query(\"blocked_continent!='0'\")\n"
   ]
  },
  {
   "cell_type": "code",
   "execution_count": 27,
   "id": "cf294df9",
   "metadata": {},
   "outputs": [
    {
     "data": {
      "text/plain": [
       "420"
      ]
     },
     "execution_count": 27,
     "metadata": {},
     "output_type": "execute_result"
    }
   ],
   "source": [
    "blockedContinent['username'].nunique()"
   ]
  },
  {
   "cell_type": "markdown",
   "id": "42b0f25b",
   "metadata": {},
   "source": [
    "<b>420</b> Users blocked entire continents!"
   ]
  },
  {
   "cell_type": "code",
   "execution_count": 28,
   "id": "6d371c9a",
   "metadata": {},
   "outputs": [
    {
     "name": "stdout",
     "output_type": "stream",
     "text": [
      "14.000000000000002\n"
     ]
    }
   ],
   "source": [
    "percentage_of_blocked_1 = ((blockedContinent['username'].nunique()/interpals['username'].nunique())*100)\n",
    "print(percentage_of_blocked_1)"
   ]
  },
  {
   "cell_type": "markdown",
   "id": "27ab8f5b",
   "metadata": {},
   "source": [
    "About <font color=red><h7>14%</h7></font> of all users blocked at least one continent"
   ]
  },
  {
   "cell_type": "code",
   "execution_count": 30,
   "id": "6162f44a",
   "metadata": {},
   "outputs": [],
   "source": [
    "females = interpals.query(\"gender == 'F'\")"
   ]
  },
  {
   "cell_type": "code",
   "execution_count": 32,
   "id": "919107cf",
   "metadata": {},
   "outputs": [],
   "source": [
    "b_females = females.query(\"blocked_country !='0'\")\n"
   ]
  },
  {
   "cell_type": "code",
   "execution_count": 33,
   "id": "f28a0aee",
   "metadata": {},
   "outputs": [
    {
     "data": {
      "text/plain": [
       "392"
      ]
     },
     "execution_count": 33,
     "metadata": {},
     "output_type": "execute_result"
    }
   ],
   "source": [
    "b_females['username'].nunique()"
   ]
  },
  {
   "cell_type": "code",
   "execution_count": 34,
   "id": "1200a7ca",
   "metadata": {},
   "outputs": [],
   "source": [
    "males = interpals.query(\"gender =='M'\")\n"
   ]
  },
  {
   "cell_type": "code",
   "execution_count": 36,
   "id": "93543aed",
   "metadata": {
    "scrolled": true
   },
   "outputs": [],
   "source": [
    "b_males = males.query(\"blocked_country !='0'\")\n"
   ]
  },
  {
   "cell_type": "code",
   "execution_count": 37,
   "id": "5bf72cb7",
   "metadata": {},
   "outputs": [
    {
     "data": {
      "text/plain": [
       "160"
      ]
     },
     "execution_count": 37,
     "metadata": {},
     "output_type": "execute_result"
    }
   ],
   "source": [
    "b_males['username'].nunique()"
   ]
  },
  {
   "cell_type": "markdown",
   "id": "016aeca4",
   "metadata": {},
   "source": [
    "Of the 552 users that blocked at least one country, <b>392</b> are Females and <b>160</b> are Males"
   ]
  },
  {
   "cell_type": "markdown",
   "id": "c369205d",
   "metadata": {},
   "source": [
    "Next, we create a <b>pie chart</b> to show by proportion, how users blocked countries, based on their gender.\n",
    "<p>We begin by importing the matplotlib library</p>"
   ]
  },
  {
   "cell_type": "code",
   "execution_count": 38,
   "id": "b14b04ba",
   "metadata": {},
   "outputs": [],
   "source": [
    "import matplotlib.pyplot as plt"
   ]
  },
  {
   "cell_type": "code",
   "execution_count": 39,
   "id": "1f269bf8",
   "metadata": {
    "scrolled": true
   },
   "outputs": [
    {
     "data": {
      "text/plain": [
       "<matplotlib.patches.Circle at 0x218cae2ca00>"
      ]
     },
     "execution_count": 39,
     "metadata": {},
     "output_type": "execute_result"
    },
    {
     "data": {
      "image/png": "[encoded data removed]",
      "text/plain": [
       "<Figure size 432x288 with 1 Axes>"
      ]
     },
     "metadata": {},
     "output_type": "display_data"
    }
   ],
   "source": [
    "explode = (0.05, 0.05,)\n",
    "blockedCountries.groupby(['gender']).size().plot.pie(\n",
    "                                                     autopct=\"%.2f%%\", pctdistance = 0.5, explode = explode,\n",
    "                                                     fontsize=12, radius = 1.3, colors=['gold','green'])\n",
    "labels = ['Female','Male']\n",
    "plt.legend(labels, bbox_to_anchor=(1,0), loc=\"lower left\")\n",
    "plt.ylabel(\"\")\n",
    "center_circle = plt.Circle((0, 0), .90, fc = 'white')\n",
    "fig = plt.gcf()\n",
    "fig.gca().add_artist(center_circle)"
   ]
  },
  {
   "cell_type": "code",
   "execution_count": 40,
   "id": "c81f2d5e",
   "metadata": {
    "scrolled": false
   },
   "outputs": [],
   "source": [
    "blockedCountries = blockedCountries.explode(['blocked_country'])\n"
   ]
  },
  {
   "cell_type": "code",
   "execution_count": 43,
   "id": "61166b94",
   "metadata": {},
   "outputs": [],
   "source": [
    "text = blockedCountries[['gender', 'continent', 'country', 'blocked_continent', 'blocked_country']]"
   ]
  },
  {
   "cell_type": "code",
   "execution_count": 44,
   "id": "00bd5a31",
   "metadata": {},
   "outputs": [
    {
     "data": {
      "text/html": [
       "<div>\n",
       "<style scoped>\n",
       "    .dataframe tbody tr th:only-of-type {\n",
       "        vertical-align: middle;\n",
       "    }\n",
       "\n",
       "    .dataframe tbody tr th {\n",
       "        vertical-align: top;\n",
       "    }\n",
       "\n",
       "    .dataframe thead th {\n",
       "        text-align: right;\n",
       "    }\n",
       "</style>\n",
       "<table border=\"1\" class=\"dataframe\">\n",
       "  <thead>\n",
       "    <tr style=\"text-align: right;\">\n",
       "      <th></th>\n",
       "      <th>gender</th>\n",
       "      <th>continent</th>\n",
       "      <th>country</th>\n",
       "      <th>blocked_continent</th>\n",
       "      <th>blocked_country</th>\n",
       "    </tr>\n",
       "  </thead>\n",
       "  <tbody>\n",
       "    <tr>\n",
       "      <th>4</th>\n",
       "      <td>F</td>\n",
       "      <td>Europe</td>\n",
       "      <td>Russia</td>\n",
       "      <td>0</td>\n",
       "      <td>Turkey, Algeria</td>\n",
       "    </tr>\n",
       "    <tr>\n",
       "      <th>13</th>\n",
       "      <td>M</td>\n",
       "      <td>Asia</td>\n",
       "      <td>India</td>\n",
       "      <td>0</td>\n",
       "      <td>Oman</td>\n",
       "    </tr>\n",
       "    <tr>\n",
       "      <th>16</th>\n",
       "      <td>F</td>\n",
       "      <td>Europe</td>\n",
       "      <td>Russia</td>\n",
       "      <td>0</td>\n",
       "      <td>Tunisia, Albania, Algeria, Azerbaijan, Iran, I...</td>\n",
       "    </tr>\n",
       "    <tr>\n",
       "      <th>17</th>\n",
       "      <td>F</td>\n",
       "      <td>North America</td>\n",
       "      <td>Mexico</td>\n",
       "      <td>Africa, Europe, North America</td>\n",
       "      <td>Turkey, Pakistan, India</td>\n",
       "    </tr>\n",
       "    <tr>\n",
       "      <th>18</th>\n",
       "      <td>M</td>\n",
       "      <td>Europe</td>\n",
       "      <td>United Kingdom</td>\n",
       "      <td>Africa</td>\n",
       "      <td>Philipines, China</td>\n",
       "    </tr>\n",
       "  </tbody>\n",
       "</table>\n",
       "</div>"
      ],
      "text/plain": [
       "   gender      continent         country              blocked_continent  \\\n",
       "4       F         Europe          Russia                              0   \n",
       "13      M           Asia           India                              0   \n",
       "16      F         Europe          Russia                              0   \n",
       "17      F  North America          Mexico  Africa, Europe, North America   \n",
       "18      M         Europe  United Kingdom                         Africa   \n",
       "\n",
       "                                      blocked_country  \n",
       "4                                     Turkey, Algeria  \n",
       "13                                               Oman  \n",
       "16  Tunisia, Albania, Algeria, Azerbaijan, Iran, I...  \n",
       "17                            Turkey, Pakistan, India  \n",
       "18                                  Philipines, China  "
      ]
     },
     "execution_count": 44,
     "metadata": {},
     "output_type": "execute_result"
    }
   ],
   "source": [
    "text.explode(['blocked_country']).head()"
   ]
  },
  {
   "cell_type": "code",
   "execution_count": 45,
   "id": "54fd53f3",
   "metadata": {},
   "outputs": [],
   "source": [
    "#The new data saved was saved as a .csv file using the _to.csv function in the pandas librabry\n",
    "text.to_csv('test.csv')"
   ]
  },
  {
   "cell_type": "markdown",
   "id": "286fe999",
   "metadata": {},
   "source": [
    "The file is further processed in excel to a list of all blocked countries and saved as a text file: countries_list.txt"
   ]
  },
  {
   "cell_type": "markdown",
   "id": "0e0b4d12",
   "metadata": {},
   "source": [
    "Lastly, we generate a wordcloud to show the most blocked countries\n",
    "\n",
    "<p><b>What are wordclouds?</b></p> A wordcloud is a depiction of the importance of a certain word in a body text. The more a word appears in the textual data, the bolder the word will appear in the wordcloud. Tha higher the frequency of occurence of a word, the bolder it appears in a wordcloud."
   ]
  },
  {
   "cell_type": "code",
   "execution_count": 46,
   "id": "e0b262e2",
   "metadata": {},
   "outputs": [
    {
     "name": "stdout",
     "output_type": "stream",
     "text": [
      "Defaulting to user installation because normal site-packages is not writeable\n",
      "Requirement already satisfied: wordcloud in c:\\users\\admin\\appdata\\roaming\\python\\python39\\site-packages (1.8.2.2)\n",
      "Requirement already satisfied: matplotlib in c:\\programdata\\anaconda3\\lib\\site-packages (from wordcloud) (3.5.1)\n",
      "Requirement already satisfied: numpy>=1.6.1 in c:\\programdata\\anaconda3\\lib\\site-packages (from wordcloud) (1.21.5)\n",
      "Requirement already satisfied: pillow in c:\\programdata\\anaconda3\\lib\\site-packages (from wordcloud) (9.0.1)\n",
      "Requirement already satisfied: pyparsing>=2.2.1 in c:\\programdata\\anaconda3\\lib\\site-packages (from matplotlib->wordcloud) (3.0.4)\n",
      "Requirement already satisfied: fonttools>=4.22.0 in c:\\programdata\\anaconda3\\lib\\site-packages (from matplotlib->wordcloud) (4.25.0)\n",
      "Requirement already satisfied: kiwisolver>=1.0.1 in c:\\programdata\\anaconda3\\lib\\site-packages (from matplotlib->wordcloud) (1.3.2)\n",
      "Requirement already satisfied: packaging>=20.0 in c:\\programdata\\anaconda3\\lib\\site-packages (from matplotlib->wordcloud) (21.3)\n",
      "Requirement already satisfied: python-dateutil>=2.7 in c:\\programdata\\anaconda3\\lib\\site-packages (from matplotlib->wordcloud) (2.8.2)\n",
      "Requirement already satisfied: cycler>=0.10 in c:\\programdata\\anaconda3\\lib\\site-packages (from matplotlib->wordcloud) (0.11.0)\n",
      "Requirement already satisfied: six>=1.5 in c:\\programdata\\anaconda3\\lib\\site-packages (from python-dateutil>=2.7->matplotlib->wordcloud) (1.16.0)\n",
      "Note: you may need to restart the kernel to use updated packages.\n"
     ]
    }
   ],
   "source": [
    "pip install wordcloud"
   ]
  },
  {
   "cell_type": "code",
   "execution_count": 47,
   "id": "53bd1b13",
   "metadata": {},
   "outputs": [],
   "source": [
    "from wordcloud import WordCloud\n",
    "from wordcloud import ImageColorGenerator\n",
    "from wordcloud import STOPWORDS\n",
    "import matplotlib.pyplot as plt"
   ]
  },
  {
   "cell_type": "code",
   "execution_count": 48,
   "id": "e8be9d5f",
   "metadata": {},
   "outputs": [],
   "source": [
    "import sys\n",
    "import os"
   ]
  },
  {
   "cell_type": "code",
   "execution_count": 49,
   "id": "a30203a2",
   "metadata": {},
   "outputs": [],
   "source": [
    "text_b = open('countries_list.txt', mode='r').read()"
   ]
  },
  {
   "cell_type": "code",
   "execution_count": 55,
   "id": "fc3cba07",
   "metadata": {
    "scrolled": true
   },
   "outputs": [
    {
     "data": {
      "image/png": "[encoded data removed]",
      "text/plain": [
       "<Figure size 432x288 with 1 Axes>"
      ]
     },
     "metadata": {
      "needs_background": "light"
     },
     "output_type": "display_data"
    }
   ],
   "source": [
    "wordcloud = WordCloud(background_color=\"white\", collocations = False, height=4000, width=6000).generate(text_b)\n",
    "plt.imshow(wordcloud)\n",
    "plt.imshow(wordcloud)\n",
    "plt.tight_layout(pad=0)\n",
    "plt.axis(\"off\")\n",
    "plt.show()"
   ]
  },
  {
   "cell_type": "markdown",
   "id": "2395a1f6",
   "metadata": {},
   "source": [
    "From the wordcloud above, we can conclude that the most blocked countries include India, Turkey, Pakistan, Afghanistan, Algeria, Morocco, Indonesia, Ghana, Iran, Egypt and my own Nigeria!\n",
    "\n",
    "<p>I guess that goes to explain why I come across lots of profile that I can't connect with. I can only imagine how much more frustrating it is for my friends from Turkey, India, Algeria and Pakistan.</p>\n",
    "\n",
    "\n",
    "\n",
    "<p>The next question is why. <font color='red'>Why are these countries blocked more often?</font> What must have informed the decisions of users to block certain countries?  We will look into these questions soon!</p>"
   ]
  },
  {
   "cell_type": "code",
   "execution_count": null,
   "id": "269010c1",
   "metadata": {},
   "outputs": [],
   "source": []
  }
 ],
 "metadata": {
  "celltoolbar": "Raw Cell Format",
  "kernelspec": {
   "display_name": "Python 3 (ipykernel)",
   "language": "python",
   "name": "python3"
  },
  "language_info": {
   "codemirror_mode": {
    "name": "ipython",
    "version": 3
   },
   "file_extension": ".py",
   "mimetype": "text/x-python",
   "name": "python",
   "nbconvert_exporter": "python",
   "pygments_lexer": "ipython3",
   "version": "3.9.12"
  }
 },
 "nbformat": 4,
 "nbformat_minor": 5
}
