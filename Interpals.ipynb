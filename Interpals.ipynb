{
 "cells": [
  {
   "cell_type": "markdown",
   "id": "38947eb4",
   "metadata": {},
   "source": [
    "<h1><p><center><font color=green>A Fun Project to check the most blocked country on the internet</font></center></p></h1>\n",
    "<h3><p><center><i><font color=blue>by Oguche Adah Peter</font></i></center></p></h3>\n",
    "<h4><p><center><font color=red>Date: April 14th, 2023</font></center></p></h4>\n"
   ]
  },
  {
   "cell_type": "markdown",
   "id": "53a970a6",
   "metadata": {},
   "source": [
    "I first signed up for Interpals on www.interpals.net in 2014 because I needed a window to ocassionally escape from the mental torture of studying Electrical Engineering in a Nigerian public university. The website served this purpose effectively as I connected with people from different countries and cultures, some of whom I still talk to. My interest in learning Finnish all started here after I met some really cool Finns!\n",
    "\n",
    "Over the years I realised that there are some people on this site who I cannot connect with. No, I wasn't blocked. Filters on this site lets one to block a country or countries, entire continents or genders.\n",
    "\n",
    "Some of these profiles that I can't connect to describe themselves with words like \"down-to-earth\", \"open-minded\", \"welcoming\"... But how can one be any of these and still block an entire country or continent from connecting with them? \n",
    "\n",
    "Hypocricy is that you? Just kidding!\n",
    "\n",
    "In this pet project, I want to analyze a sample of users whose profile details I pulled from the website in order to:\n",
    "<p>~ Determine how many users block at least one country or continent</p>\n",
    "<p>~ Check the most blocked country(ies) and continent(s)</p>\n",
    "\n",
    "\n",
    "\n",
    "\n",
    "\n",
    "<p> As at the time I started this project, my webscrapping skills were bananas so I had to mannually pull user profile data from the website into a <b>.csv</b> file</p>\n",
    "\n",
    "\n",
    "I decided on a sample size of <b>3000</b> distributed evenly across continents and gender.\n",
    "The dataset contains <b>500</b> profiles from <b>each</b> continent. There are <b>250 Female</b> and <b>250 Male</b> profiles from each continent.\n",
    "To avoid involving spam accounts in my dataset, only profiles that have been active for at least one year were included."
   ]
  },
  {
   "cell_type": "markdown",
   "id": "90514024",
   "metadata": {},
   "source": [
    "We begin by importing the the necesarry python libraries"
   ]
  },
  {
   "cell_type": "code",
   "execution_count": 2,
   "id": "c8d740af",
   "metadata": {},
   "outputs": [],
   "source": [
    "import pandas as pd\n",
    "import numpy as np"
   ]
  },
  {
   "cell_type": "markdown",
   "id": "e3ed6448",
   "metadata": {},
   "source": [
    "Next, let us import the dataset using the <b>.read_csv()</b> function of the pandas library.\n",
    "We shall assign the name \"interpals\""
   ]
  },
  {
   "cell_type": "code",
   "execution_count": 3,
   "id": "eac9dd60",
   "metadata": {},
   "outputs": [],
   "source": [
    "interpals = pd.read_csv('interpals.csv')"
   ]
  },
  {
   "cell_type": "code",
   "execution_count": 8,
   "id": "2b5d99c2",
   "metadata": {
    "scrolled": true
   },
   "outputs": [
    {
     "data": {
      "text/html": [
       "<div>\n",
       "<style scoped>\n",
       "    .dataframe tbody tr th:only-of-type {\n",
       "        vertical-align: middle;\n",
       "    }\n",
       "\n",
       "    .dataframe tbody tr th {\n",
       "        vertical-align: top;\n",
       "    }\n",
       "\n",
       "    .dataframe thead th {\n",
       "        text-align: right;\n",
       "    }\n",
       "</style>\n",
       "<table border=\"1\" class=\"dataframe\">\n",
       "  <thead>\n",
       "    <tr style=\"text-align: right;\">\n",
       "      <th></th>\n",
       "      <th>Username</th>\n",
       "      <th>Gender</th>\n",
       "      <th>Age</th>\n",
       "      <th>Continent</th>\n",
       "      <th>Country</th>\n",
       "      <th>Languages\\n spoken</th>\n",
       "      <th>Languages \\nLearning</th>\n",
       "      <th>Status</th>\n",
       "      <th>Acct. age</th>\n",
       "      <th>Blocked \\nContinent</th>\n",
       "      <th>Blocked \\nCountry</th>\n",
       "      <th>Blocked\\nSex</th>\n",
       "    </tr>\n",
       "  </thead>\n",
       "  <tbody>\n",
       "    <tr>\n",
       "      <th>0</th>\n",
       "      <td>14</td>\n",
       "      <td>M</td>\n",
       "      <td>32</td>\n",
       "      <td>North America</td>\n",
       "      <td>United States</td>\n",
       "      <td>4</td>\n",
       "      <td>0</td>\n",
       "      <td>0</td>\n",
       "      <td>12</td>\n",
       "      <td>Africa</td>\n",
       "      <td>0</td>\n",
       "      <td>0</td>\n",
       "    </tr>\n",
       "    <tr>\n",
       "      <th>1</th>\n",
       "      <td>3789</td>\n",
       "      <td>F</td>\n",
       "      <td>62</td>\n",
       "      <td>Europe</td>\n",
       "      <td>Albania</td>\n",
       "      <td>2</td>\n",
       "      <td>2</td>\n",
       "      <td>99</td>\n",
       "      <td>1</td>\n",
       "      <td>0</td>\n",
       "      <td>0</td>\n",
       "      <td>0</td>\n",
       "    </tr>\n",
       "    <tr>\n",
       "      <th>2</th>\n",
       "      <td>May-45</td>\n",
       "      <td>F</td>\n",
       "      <td>47</td>\n",
       "      <td>Africa</td>\n",
       "      <td>Kenya</td>\n",
       "      <td>2</td>\n",
       "      <td>1</td>\n",
       "      <td>99</td>\n",
       "      <td>1</td>\n",
       "      <td>0</td>\n",
       "      <td>0</td>\n",
       "      <td>0</td>\n",
       "    </tr>\n",
       "    <tr>\n",
       "      <th>3</th>\n",
       "      <td>17774</td>\n",
       "      <td>F</td>\n",
       "      <td>20</td>\n",
       "      <td>Asia</td>\n",
       "      <td>Kazakhstan</td>\n",
       "      <td>1</td>\n",
       "      <td>0</td>\n",
       "      <td>99</td>\n",
       "      <td>1</td>\n",
       "      <td>0</td>\n",
       "      <td>0</td>\n",
       "      <td>0</td>\n",
       "    </tr>\n",
       "    <tr>\n",
       "      <th>4</th>\n",
       "      <td>_Cornelia_</td>\n",
       "      <td>F</td>\n",
       "      <td>37</td>\n",
       "      <td>Europe</td>\n",
       "      <td>Russia</td>\n",
       "      <td>2</td>\n",
       "      <td>1</td>\n",
       "      <td>99</td>\n",
       "      <td>5</td>\n",
       "      <td>0</td>\n",
       "      <td>Turkey, Algeria</td>\n",
       "      <td>0</td>\n",
       "    </tr>\n",
       "  </tbody>\n",
       "</table>\n",
       "</div>"
      ],
      "text/plain": [
       "    Username  Gender  Age      Continent        Country  Languages\\n spoken  \\\n",
       "0          14      M   32  North America  United States                   4   \n",
       "1        3789      F   62         Europe        Albania                   2   \n",
       "2      May-45      F   47         Africa          Kenya                   2   \n",
       "3       17774      F   20           Asia     Kazakhstan                   1   \n",
       "4  _Cornelia_      F   37         Europe         Russia                   2   \n",
       "\n",
       "   Languages \\nLearning  Status  Acct. age Blocked \\nContinent  \\\n",
       "0                     0       0         12              Africa   \n",
       "1                     2      99          1                   0   \n",
       "2                     1      99          1                   0   \n",
       "3                     0      99          1                   0   \n",
       "4                     1      99          5                   0   \n",
       "\n",
       "  Blocked \\nCountry Blocked\\nSex  \n",
       "0                 0            0  \n",
       "1                 0            0  \n",
       "2                 0            0  \n",
       "3                 0            0  \n",
       "4   Turkey, Algeria            0  "
      ]
     },
     "execution_count": 8,
     "metadata": {},
     "output_type": "execute_result"
    }
   ],
   "source": [
    "#Here is the dataframe\n",
    "interpals.head()"
   ]
  },
  {
   "cell_type": "code",
   "execution_count": 9,
   "id": "406a6529",
   "metadata": {
    "scrolled": true
   },
   "outputs": [
    {
     "data": {
      "text/plain": [
       "Index(['Username ', 'Gender', 'Age', 'Continent', 'Country',\n",
       "       'Languages\\n spoken', 'Languages \\nLearning', 'Status', 'Acct. age',\n",
       "       'Blocked \\nContinent', 'Blocked \\nCountry', 'Blocked\\nSex'],\n",
       "      dtype='object')"
      ]
     },
     "execution_count": 9,
     "metadata": {},
     "output_type": "execute_result"
    }
   ],
   "source": [
    "interpals.columns"
   ]
  },
  {
   "cell_type": "markdown",
   "id": "3a745c2f",
   "metadata": {},
   "source": [
    "The column names do not look tidy so we shall use the <b>.rename(columns={})</b> function to rename the column headers to meet standards"
   ]
  },
  {
   "cell_type": "code",
   "execution_count": 10,
   "id": "56899202",
   "metadata": {
    "scrolled": true
   },
   "outputs": [
    {
     "data": {
      "text/html": [
       "<div>\n",
       "<style scoped>\n",
       "    .dataframe tbody tr th:only-of-type {\n",
       "        vertical-align: middle;\n",
       "    }\n",
       "\n",
       "    .dataframe tbody tr th {\n",
       "        vertical-align: top;\n",
       "    }\n",
       "\n",
       "    .dataframe thead th {\n",
       "        text-align: right;\n",
       "    }\n",
       "</style>\n",
       "<table border=\"1\" class=\"dataframe\">\n",
       "  <thead>\n",
       "    <tr style=\"text-align: right;\">\n",
       "      <th></th>\n",
       "      <th>username</th>\n",
       "      <th>gender</th>\n",
       "      <th>age</th>\n",
       "      <th>continent</th>\n",
       "      <th>country</th>\n",
       "      <th>lang_spoken</th>\n",
       "      <th>lang_learning</th>\n",
       "      <th>status</th>\n",
       "      <th>acct_age</th>\n",
       "      <th>blocked_continent</th>\n",
       "      <th>blocked_country</th>\n",
       "      <th>blocked_sex</th>\n",
       "    </tr>\n",
       "  </thead>\n",
       "  <tbody>\n",
       "    <tr>\n",
       "      <th>0</th>\n",
       "      <td>14</td>\n",
       "      <td>M</td>\n",
       "      <td>32</td>\n",
       "      <td>North America</td>\n",
       "      <td>United States</td>\n",
       "      <td>4</td>\n",
       "      <td>0</td>\n",
       "      <td>0</td>\n",
       "      <td>12</td>\n",
       "      <td>Africa</td>\n",
       "      <td>0</td>\n",
       "      <td>0</td>\n",
       "    </tr>\n",
       "    <tr>\n",
       "      <th>1</th>\n",
       "      <td>3789</td>\n",
       "      <td>F</td>\n",
       "      <td>62</td>\n",
       "      <td>Europe</td>\n",
       "      <td>Albania</td>\n",
       "      <td>2</td>\n",
       "      <td>2</td>\n",
       "      <td>99</td>\n",
       "      <td>1</td>\n",
       "      <td>0</td>\n",
       "      <td>0</td>\n",
       "      <td>0</td>\n",
       "    </tr>\n",
       "    <tr>\n",
       "      <th>2</th>\n",
       "      <td>May-45</td>\n",
       "      <td>F</td>\n",
       "      <td>47</td>\n",
       "      <td>Africa</td>\n",
       "      <td>Kenya</td>\n",
       "      <td>2</td>\n",
       "      <td>1</td>\n",
       "      <td>99</td>\n",
       "      <td>1</td>\n",
       "      <td>0</td>\n",
       "      <td>0</td>\n",
       "      <td>0</td>\n",
       "    </tr>\n",
       "    <tr>\n",
       "      <th>3</th>\n",
       "      <td>17774</td>\n",
       "      <td>F</td>\n",
       "      <td>20</td>\n",
       "      <td>Asia</td>\n",
       "      <td>Kazakhstan</td>\n",
       "      <td>1</td>\n",
       "      <td>0</td>\n",
       "      <td>99</td>\n",
       "      <td>1</td>\n",
       "      <td>0</td>\n",
       "      <td>0</td>\n",
       "      <td>0</td>\n",
       "    </tr>\n",
       "    <tr>\n",
       "      <th>4</th>\n",
       "      <td>_Cornelia_</td>\n",
       "      <td>F</td>\n",
       "      <td>37</td>\n",
       "      <td>Europe</td>\n",
       "      <td>Russia</td>\n",
       "      <td>2</td>\n",
       "      <td>1</td>\n",
       "      <td>99</td>\n",
       "      <td>5</td>\n",
       "      <td>0</td>\n",
       "      <td>Turkey, Algeria</td>\n",
       "      <td>0</td>\n",
       "    </tr>\n",
       "  </tbody>\n",
       "</table>\n",
       "</div>"
      ],
      "text/plain": [
       "     username gender  age      continent        country  lang_spoken  \\\n",
       "0          14      M   32  North America  United States            4   \n",
       "1        3789      F   62         Europe        Albania            2   \n",
       "2      May-45      F   47         Africa          Kenya            2   \n",
       "3       17774      F   20           Asia     Kazakhstan            1   \n",
       "4  _Cornelia_      F   37         Europe         Russia            2   \n",
       "\n",
       "   lang_learning  status  acct_age blocked_continent  blocked_country  \\\n",
       "0              0       0        12            Africa                0   \n",
       "1              2      99         1                 0                0   \n",
       "2              1      99         1                 0                0   \n",
       "3              0      99         1                 0                0   \n",
       "4              1      99         5                 0  Turkey, Algeria   \n",
       "\n",
       "  blocked_sex  \n",
       "0           0  \n",
       "1           0  \n",
       "2           0  \n",
       "3           0  \n",
       "4           0  "
      ]
     },
     "execution_count": 10,
     "metadata": {},
     "output_type": "execute_result"
    }
   ],
   "source": [
    "interpals.rename(columns = {'Username ':'username', 'Gender':'gender', 'Age':'age', 'Continent':'continent',\n",
    "                            'Country':'country','Languages\\n spoken':'lang_spoken', 'Languages \\nLearning':'lang_learning',\n",
    "                           'Status':'status','Acct. age':'acct_age', 'Blocked \\nContinent':'blocked_continent',\n",
    "                           'Blocked \\nCountry':'blocked_country', 'Blocked\\nSex':'blocked_sex'}, inplace = True)\n",
    "interpals.head()"
   ]
  },
  {
   "cell_type": "markdown",
   "id": "b41a430c",
   "metadata": {},
   "source": [
    "Let us explore some descriptive statistics of our dataset"
   ]
  },
  {
   "cell_type": "code",
   "execution_count": 11,
   "id": "55e203c1",
   "metadata": {},
   "outputs": [
    {
     "data": {
      "text/plain": [
       "3000"
      ]
     },
     "execution_count": 11,
     "metadata": {},
     "output_type": "execute_result"
    }
   ],
   "source": [
    "#checking for the number of records\n",
    "len(interpals.index)"
   ]
  },
  {
   "cell_type": "markdown",
   "id": "c31dd16a",
   "metadata": {},
   "source": [
    "This does not tell us whether or not some values are repeated.\n",
    "So, next, we check for distinct values using the <b>.nunique()</b> method"
   ]
  },
  {
   "cell_type": "code",
   "execution_count": 12,
   "id": "e2444dd3",
   "metadata": {},
   "outputs": [
    {
     "data": {
      "text/plain": [
       "3000"
      ]
     },
     "execution_count": 12,
     "metadata": {},
     "output_type": "execute_result"
    }
   ],
   "source": [
    "interpals['username'].nunique()"
   ]
  },
  {
   "cell_type": "markdown",
   "id": "97ef2ea5",
   "metadata": {},
   "source": [
    "Since the number of Unique usernames is equal to the number of usernames, we can conclude that there are no duplicated enteries. <h6>woohoo!</h6> Two weeks of collecting CLEAN data, <b>Check!</b> "
   ]
  },
  {
   "cell_type": "markdown",
   "id": "87d3083d",
   "metadata": {},
   "source": [
    "Next, we examine the continent and country coulums to determine if all continents are represented and to also check the number of countries represented"
   ]
  },
  {
   "cell_type": "code",
   "execution_count": 13,
   "id": "1ac0cc3e",
   "metadata": {},
   "outputs": [
    {
     "data": {
      "text/plain": [
       "6"
      ]
     },
     "execution_count": 13,
     "metadata": {},
     "output_type": "execute_result"
    }
   ],
   "source": [
    "#How many continents are represented?\n",
    "interpals['continent'].nunique()"
   ]
  },
  {
   "cell_type": "code",
   "execution_count": 14,
   "id": "57cf03eb",
   "metadata": {},
   "outputs": [
    {
     "data": {
      "text/plain": [
       "144"
      ]
     },
     "execution_count": 14,
     "metadata": {},
     "output_type": "execute_result"
    }
   ],
   "source": [
    "#How many countries are represented?\n",
    "interpals['country'].nunique()"
   ]
  },
  {
   "cell_type": "code",
   "execution_count": 15,
   "id": "5e5a0c60",
   "metadata": {},
   "outputs": [
    {
     "data": {
      "text/plain": [
       "2"
      ]
     },
     "execution_count": 15,
     "metadata": {},
     "output_type": "execute_result"
    }
   ],
   "source": [
    "#Genders represented\n",
    "interpals['gender'].nunique()"
   ]
  },
  {
   "cell_type": "code",
   "execution_count": 16,
   "id": "d65db82f",
   "metadata": {},
   "outputs": [
    {
     "data": {
      "text/plain": [
       "M    1500\n",
       "F    1500\n",
       "Name: gender, dtype: int64"
      ]
     },
     "execution_count": 16,
     "metadata": {},
     "output_type": "execute_result"
    }
   ],
   "source": [
    "gender_counts = interpals['gender'].value_counts()\n",
    "gender_counts"
   ]
  },
  {
   "cell_type": "markdown",
   "id": "c033d73e",
   "metadata": {},
   "source": [
    "So in the dataset, we have a total of <b>1500 Males</b> and <b>1500 Females</b> evenly distributed across <b>144 countries</b> from <b>6 continents</b>"
   ]
  },
  {
   "cell_type": "markdown",
   "id": "fc0a2987",
   "metadata": {},
   "source": [
    "Now we query the dataset to draw only the users that blocked at least one country.\n",
    "<p>This is the point where I confess my undying love for the <b>.query()</b> function</p>"
   ]
  },
  {
   "cell_type": "code",
   "execution_count": 17,
   "id": "f6fba345",
   "metadata": {},
   "outputs": [],
   "source": [
    "#python query to pull data of only the users that blocked at least one country and create a new dataset\n",
    "blockedCountries = interpals.query(\"blocked_country!='0'\")"
   ]
  },
  {
   "cell_type": "code",
   "execution_count": 18,
   "id": "58398cd3",
   "metadata": {
    "scrolled": true
   },
   "outputs": [
    {
     "data": {
      "text/html": [
       "<div>\n",
       "<style scoped>\n",
       "    .dataframe tbody tr th:only-of-type {\n",
       "        vertical-align: middle;\n",
       "    }\n",
       "\n",
       "    .dataframe tbody tr th {\n",
       "        vertical-align: top;\n",
       "    }\n",
       "\n",
       "    .dataframe thead th {\n",
       "        text-align: right;\n",
       "    }\n",
       "</style>\n",
       "<table border=\"1\" class=\"dataframe\">\n",
       "  <thead>\n",
       "    <tr style=\"text-align: right;\">\n",
       "      <th></th>\n",
       "      <th>username</th>\n",
       "      <th>gender</th>\n",
       "      <th>age</th>\n",
       "      <th>continent</th>\n",
       "      <th>country</th>\n",
       "      <th>lang_spoken</th>\n",
       "      <th>lang_learning</th>\n",
       "      <th>status</th>\n",
       "      <th>acct_age</th>\n",
       "      <th>blocked_continent</th>\n",
       "      <th>blocked_country</th>\n",
       "      <th>blocked_sex</th>\n",
       "    </tr>\n",
       "  </thead>\n",
       "  <tbody>\n",
       "    <tr>\n",
       "      <th>4</th>\n",
       "      <td>_Cornelia_</td>\n",
       "      <td>F</td>\n",
       "      <td>37</td>\n",
       "      <td>Europe</td>\n",
       "      <td>Russia</td>\n",
       "      <td>2</td>\n",
       "      <td>1</td>\n",
       "      <td>99</td>\n",
       "      <td>5</td>\n",
       "      <td>0</td>\n",
       "      <td>Turkey, Algeria</td>\n",
       "      <td>0</td>\n",
       "    </tr>\n",
       "    <tr>\n",
       "      <th>13</th>\n",
       "      <td>15mAnOj</td>\n",
       "      <td>M</td>\n",
       "      <td>35</td>\n",
       "      <td>Asia</td>\n",
       "      <td>India</td>\n",
       "      <td>3</td>\n",
       "      <td>2</td>\n",
       "      <td>0</td>\n",
       "      <td>1</td>\n",
       "      <td>0</td>\n",
       "      <td>Oman</td>\n",
       "      <td>0</td>\n",
       "    </tr>\n",
       "    <tr>\n",
       "      <th>16</th>\n",
       "      <td>21Ira21</td>\n",
       "      <td>F</td>\n",
       "      <td>23</td>\n",
       "      <td>Europe</td>\n",
       "      <td>Russia</td>\n",
       "      <td>2</td>\n",
       "      <td>3</td>\n",
       "      <td>0</td>\n",
       "      <td>1</td>\n",
       "      <td>0</td>\n",
       "      <td>Tunisia, Albania, Algeria, Azerbaijan, Iran, I...</td>\n",
       "      <td>0</td>\n",
       "    </tr>\n",
       "    <tr>\n",
       "      <th>17</th>\n",
       "      <td>221Lea8</td>\n",
       "      <td>F</td>\n",
       "      <td>23</td>\n",
       "      <td>North America</td>\n",
       "      <td>Mexico</td>\n",
       "      <td>2</td>\n",
       "      <td>0</td>\n",
       "      <td>99</td>\n",
       "      <td>2</td>\n",
       "      <td>Africa, Europe, North America</td>\n",
       "      <td>Turkey, Pakistan, India</td>\n",
       "      <td>0</td>\n",
       "    </tr>\n",
       "    <tr>\n",
       "      <th>18</th>\n",
       "      <td>3Sky-blue6</td>\n",
       "      <td>M</td>\n",
       "      <td>46</td>\n",
       "      <td>Europe</td>\n",
       "      <td>United Kingdom</td>\n",
       "      <td>1</td>\n",
       "      <td>1</td>\n",
       "      <td>99</td>\n",
       "      <td>2</td>\n",
       "      <td>Africa</td>\n",
       "      <td>Philipines, China</td>\n",
       "      <td>0</td>\n",
       "    </tr>\n",
       "  </tbody>\n",
       "</table>\n",
       "</div>"
      ],
      "text/plain": [
       "      username gender  age      continent         country  lang_spoken  \\\n",
       "4   _Cornelia_      F   37         Europe          Russia            2   \n",
       "13     15mAnOj      M   35           Asia           India            3   \n",
       "16     21Ira21      F   23         Europe          Russia            2   \n",
       "17     221Lea8      F   23  North America          Mexico            2   \n",
       "18  3Sky-blue6      M   46         Europe  United Kingdom            1   \n",
       "\n",
       "    lang_learning  status  acct_age              blocked_continent  \\\n",
       "4               1      99         5                              0   \n",
       "13              2       0         1                              0   \n",
       "16              3       0         1                              0   \n",
       "17              0      99         2  Africa, Europe, North America   \n",
       "18              1      99         2                         Africa   \n",
       "\n",
       "                                      blocked_country blocked_sex  \n",
       "4                                     Turkey, Algeria           0  \n",
       "13                                               Oman           0  \n",
       "16  Tunisia, Albania, Algeria, Azerbaijan, Iran, I...           0  \n",
       "17                            Turkey, Pakistan, India           0  \n",
       "18                                  Philipines, China           0  "
      ]
     },
     "execution_count": 18,
     "metadata": {},
     "output_type": "execute_result"
    }
   ],
   "source": [
    "blockedCountries.head()"
   ]
  },
  {
   "cell_type": "code",
   "execution_count": 15,
   "id": "d52e2e5d",
   "metadata": {},
   "outputs": [
    {
     "data": {
      "text/plain": [
       "552"
      ]
     },
     "execution_count": 15,
     "metadata": {},
     "output_type": "execute_result"
    }
   ],
   "source": [
    "blockedCountries['username'].nunique()"
   ]
  },
  {
   "cell_type": "markdown",
   "id": "1517fea6",
   "metadata": {},
   "source": [
    "<b>552</b> users blocked at least one country!"
   ]
  },
  {
   "cell_type": "code",
   "execution_count": 16,
   "id": "5e1b77fd",
   "metadata": {},
   "outputs": [
    {
     "name": "stdout",
     "output_type": "stream",
     "text": [
      "18.4\n"
     ]
    }
   ],
   "source": [
    "percentage_of_blocked = ((blockedCountries['username'].nunique()/interpals['username'].nunique())*100)\n",
    "print(percentage_of_blocked)"
   ]
  },
  {
   "cell_type": "markdown",
   "id": "7d57b631",
   "metadata": {},
   "source": [
    "About <font color=red><h7>18.4%</h7></font> of all users blocked at least one country from contacting them"
   ]
  },
  {
   "cell_type": "markdown",
   "id": "fccd3bd6",
   "metadata": {},
   "source": [
    "Now we examine the percentage of users that blocked an entire continent"
   ]
  },
  {
   "cell_type": "code",
   "execution_count": 17,
   "id": "2cabd53b",
   "metadata": {
    "scrolled": true
   },
   "outputs": [
    {
     "data": {
      "text/html": [
       "<div>\n",
       "<style scoped>\n",
       "    .dataframe tbody tr th:only-of-type {\n",
       "        vertical-align: middle;\n",
       "    }\n",
       "\n",
       "    .dataframe tbody tr th {\n",
       "        vertical-align: top;\n",
       "    }\n",
       "\n",
       "    .dataframe thead th {\n",
       "        text-align: right;\n",
       "    }\n",
       "</style>\n",
       "<table border=\"1\" class=\"dataframe\">\n",
       "  <thead>\n",
       "    <tr style=\"text-align: right;\">\n",
       "      <th></th>\n",
       "      <th>username</th>\n",
       "      <th>gender</th>\n",
       "      <th>age</th>\n",
       "      <th>continent</th>\n",
       "      <th>country</th>\n",
       "      <th>lang_spoken</th>\n",
       "      <th>lang_learning</th>\n",
       "      <th>status</th>\n",
       "      <th>acct_age</th>\n",
       "      <th>blocked_continent</th>\n",
       "      <th>blocked_country</th>\n",
       "      <th>blocked_sex</th>\n",
       "    </tr>\n",
       "  </thead>\n",
       "  <tbody>\n",
       "    <tr>\n",
       "      <th>0</th>\n",
       "      <td>14</td>\n",
       "      <td>M</td>\n",
       "      <td>32</td>\n",
       "      <td>North America</td>\n",
       "      <td>United States</td>\n",
       "      <td>4</td>\n",
       "      <td>0</td>\n",
       "      <td>0</td>\n",
       "      <td>12</td>\n",
       "      <td>Africa</td>\n",
       "      <td>0</td>\n",
       "      <td>0</td>\n",
       "    </tr>\n",
       "    <tr>\n",
       "      <th>17</th>\n",
       "      <td>221Lea8</td>\n",
       "      <td>F</td>\n",
       "      <td>23</td>\n",
       "      <td>North America</td>\n",
       "      <td>Mexico</td>\n",
       "      <td>2</td>\n",
       "      <td>0</td>\n",
       "      <td>99</td>\n",
       "      <td>2</td>\n",
       "      <td>Africa, Europe, North America</td>\n",
       "      <td>Turkey, Pakistan, India</td>\n",
       "      <td>0</td>\n",
       "    </tr>\n",
       "    <tr>\n",
       "      <th>18</th>\n",
       "      <td>3Sky-blue6</td>\n",
       "      <td>M</td>\n",
       "      <td>46</td>\n",
       "      <td>Europe</td>\n",
       "      <td>United Kingdom</td>\n",
       "      <td>1</td>\n",
       "      <td>1</td>\n",
       "      <td>99</td>\n",
       "      <td>2</td>\n",
       "      <td>Africa</td>\n",
       "      <td>Philipines, China</td>\n",
       "      <td>0</td>\n",
       "    </tr>\n",
       "    <tr>\n",
       "      <th>22</th>\n",
       "      <td>A.Amelle</td>\n",
       "      <td>F</td>\n",
       "      <td>37</td>\n",
       "      <td>Africa</td>\n",
       "      <td>Algeria</td>\n",
       "      <td>2</td>\n",
       "      <td>1</td>\n",
       "      <td>99</td>\n",
       "      <td>1</td>\n",
       "      <td>Africa</td>\n",
       "      <td>India, Iran, Iraq, Israel, Turkey, Algeria</td>\n",
       "      <td>0</td>\n",
       "    </tr>\n",
       "    <tr>\n",
       "      <th>30</th>\n",
       "      <td>AbaddoNZ</td>\n",
       "      <td>M</td>\n",
       "      <td>61</td>\n",
       "      <td>Australia</td>\n",
       "      <td>New Zealand</td>\n",
       "      <td>2</td>\n",
       "      <td>0</td>\n",
       "      <td>1</td>\n",
       "      <td>4</td>\n",
       "      <td>Africa, Europe, North America</td>\n",
       "      <td>New Zealand</td>\n",
       "      <td>M</td>\n",
       "    </tr>\n",
       "  </tbody>\n",
       "</table>\n",
       "</div>"
      ],
      "text/plain": [
       "      username gender  age      continent         country  lang_spoken  \\\n",
       "0           14      M   32  North America   United States            4   \n",
       "17     221Lea8      F   23  North America          Mexico            2   \n",
       "18  3Sky-blue6      M   46         Europe  United Kingdom            1   \n",
       "22    A.Amelle      F   37         Africa         Algeria            2   \n",
       "30    AbaddoNZ      M   61      Australia     New Zealand            2   \n",
       "\n",
       "    lang_learning  status  acct_age              blocked_continent  \\\n",
       "0               0       0        12                         Africa   \n",
       "17              0      99         2  Africa, Europe, North America   \n",
       "18              1      99         2                         Africa   \n",
       "22              1      99         1                         Africa   \n",
       "30              0       1         4  Africa, Europe, North America   \n",
       "\n",
       "                               blocked_country blocked_sex  \n",
       "0                                            0           0  \n",
       "17                     Turkey, Pakistan, India           0  \n",
       "18                           Philipines, China           0  \n",
       "22  India, Iran, Iraq, Israel, Turkey, Algeria           0  \n",
       "30                                 New Zealand           M  "
      ]
     },
     "execution_count": 17,
     "metadata": {},
     "output_type": "execute_result"
    }
   ],
   "source": [
    "blockedContinent = interpals.query(\"blocked_continent!='0'\")\n",
    "blockedContinent.head()"
   ]
  },
  {
   "cell_type": "code",
   "execution_count": 18,
   "id": "cf294df9",
   "metadata": {},
   "outputs": [
    {
     "data": {
      "text/plain": [
       "420"
      ]
     },
     "execution_count": 18,
     "metadata": {},
     "output_type": "execute_result"
    }
   ],
   "source": [
    "blockedContinent['username'].nunique()"
   ]
  },
  {
   "cell_type": "markdown",
   "id": "42b0f25b",
   "metadata": {},
   "source": [
    "<b>420</b> Users blocked entire continents!"
   ]
  },
  {
   "cell_type": "code",
   "execution_count": 19,
   "id": "6d371c9a",
   "metadata": {},
   "outputs": [
    {
     "name": "stdout",
     "output_type": "stream",
     "text": [
      "14.000000000000002\n"
     ]
    }
   ],
   "source": [
    "percentage_of_blocked_1 = ((blockedContinent['username'].nunique()/interpals['username'].nunique())*100)\n",
    "print(percentage_of_blocked_1)"
   ]
  },
  {
   "cell_type": "markdown",
   "id": "27ab8f5b",
   "metadata": {},
   "source": [
    "About <font color=red><h7>14%</h7></font> of all users blocked at least one continent"
   ]
  },
  {
   "cell_type": "code",
   "execution_count": 20,
   "id": "6162f44a",
   "metadata": {},
   "outputs": [
    {
     "data": {
      "text/html": [
       "<div>\n",
       "<style scoped>\n",
       "    .dataframe tbody tr th:only-of-type {\n",
       "        vertical-align: middle;\n",
       "    }\n",
       "\n",
       "    .dataframe tbody tr th {\n",
       "        vertical-align: top;\n",
       "    }\n",
       "\n",
       "    .dataframe thead th {\n",
       "        text-align: right;\n",
       "    }\n",
       "</style>\n",
       "<table border=\"1\" class=\"dataframe\">\n",
       "  <thead>\n",
       "    <tr style=\"text-align: right;\">\n",
       "      <th></th>\n",
       "      <th>username</th>\n",
       "      <th>gender</th>\n",
       "      <th>age</th>\n",
       "      <th>continent</th>\n",
       "      <th>country</th>\n",
       "      <th>lang_spoken</th>\n",
       "      <th>lang_learning</th>\n",
       "      <th>status</th>\n",
       "      <th>acct_age</th>\n",
       "      <th>blocked_continent</th>\n",
       "      <th>blocked_country</th>\n",
       "      <th>blocked_sex</th>\n",
       "    </tr>\n",
       "  </thead>\n",
       "  <tbody>\n",
       "    <tr>\n",
       "      <th>1</th>\n",
       "      <td>3789</td>\n",
       "      <td>F</td>\n",
       "      <td>62</td>\n",
       "      <td>Europe</td>\n",
       "      <td>Albania</td>\n",
       "      <td>2</td>\n",
       "      <td>2</td>\n",
       "      <td>99</td>\n",
       "      <td>1</td>\n",
       "      <td>0</td>\n",
       "      <td>0</td>\n",
       "      <td>0</td>\n",
       "    </tr>\n",
       "    <tr>\n",
       "      <th>2</th>\n",
       "      <td>May-45</td>\n",
       "      <td>F</td>\n",
       "      <td>47</td>\n",
       "      <td>Africa</td>\n",
       "      <td>Kenya</td>\n",
       "      <td>2</td>\n",
       "      <td>1</td>\n",
       "      <td>99</td>\n",
       "      <td>1</td>\n",
       "      <td>0</td>\n",
       "      <td>0</td>\n",
       "      <td>0</td>\n",
       "    </tr>\n",
       "    <tr>\n",
       "      <th>3</th>\n",
       "      <td>17774</td>\n",
       "      <td>F</td>\n",
       "      <td>20</td>\n",
       "      <td>Asia</td>\n",
       "      <td>Kazakhstan</td>\n",
       "      <td>1</td>\n",
       "      <td>0</td>\n",
       "      <td>99</td>\n",
       "      <td>1</td>\n",
       "      <td>0</td>\n",
       "      <td>0</td>\n",
       "      <td>0</td>\n",
       "    </tr>\n",
       "    <tr>\n",
       "      <th>4</th>\n",
       "      <td>_Cornelia_</td>\n",
       "      <td>F</td>\n",
       "      <td>37</td>\n",
       "      <td>Europe</td>\n",
       "      <td>Russia</td>\n",
       "      <td>2</td>\n",
       "      <td>1</td>\n",
       "      <td>99</td>\n",
       "      <td>5</td>\n",
       "      <td>0</td>\n",
       "      <td>Turkey, Algeria</td>\n",
       "      <td>0</td>\n",
       "    </tr>\n",
       "    <tr>\n",
       "      <th>5</th>\n",
       "      <td>_qrk_</td>\n",
       "      <td>F</td>\n",
       "      <td>25</td>\n",
       "      <td>Australia</td>\n",
       "      <td>Australia</td>\n",
       "      <td>1</td>\n",
       "      <td>0</td>\n",
       "      <td>99</td>\n",
       "      <td>5</td>\n",
       "      <td>0</td>\n",
       "      <td>0</td>\n",
       "      <td>0</td>\n",
       "    </tr>\n",
       "  </tbody>\n",
       "</table>\n",
       "</div>"
      ],
      "text/plain": [
       "     username gender  age  continent     country  lang_spoken  lang_learning  \\\n",
       "1        3789      F   62     Europe     Albania            2              2   \n",
       "2      May-45      F   47     Africa       Kenya            2              1   \n",
       "3       17774      F   20       Asia  Kazakhstan            1              0   \n",
       "4  _Cornelia_      F   37     Europe      Russia            2              1   \n",
       "5       _qrk_      F   25  Australia   Australia            1              0   \n",
       "\n",
       "   status  acct_age blocked_continent  blocked_country blocked_sex  \n",
       "1      99         1                 0                0           0  \n",
       "2      99         1                 0                0           0  \n",
       "3      99         1                 0                0           0  \n",
       "4      99         5                 0  Turkey, Algeria           0  \n",
       "5      99         5                 0                0           0  "
      ]
     },
     "execution_count": 20,
     "metadata": {},
     "output_type": "execute_result"
    }
   ],
   "source": [
    "females = interpals.query(\"gender == 'F'\")\n",
    "females.head()"
   ]
  },
  {
   "cell_type": "code",
   "execution_count": 21,
   "id": "919107cf",
   "metadata": {},
   "outputs": [
    {
     "data": {
      "text/html": [
       "<div>\n",
       "<style scoped>\n",
       "    .dataframe tbody tr th:only-of-type {\n",
       "        vertical-align: middle;\n",
       "    }\n",
       "\n",
       "    .dataframe tbody tr th {\n",
       "        vertical-align: top;\n",
       "    }\n",
       "\n",
       "    .dataframe thead th {\n",
       "        text-align: right;\n",
       "    }\n",
       "</style>\n",
       "<table border=\"1\" class=\"dataframe\">\n",
       "  <thead>\n",
       "    <tr style=\"text-align: right;\">\n",
       "      <th></th>\n",
       "      <th>username</th>\n",
       "      <th>gender</th>\n",
       "      <th>age</th>\n",
       "      <th>continent</th>\n",
       "      <th>country</th>\n",
       "      <th>lang_spoken</th>\n",
       "      <th>lang_learning</th>\n",
       "      <th>status</th>\n",
       "      <th>acct_age</th>\n",
       "      <th>blocked_continent</th>\n",
       "      <th>blocked_country</th>\n",
       "      <th>blocked_sex</th>\n",
       "    </tr>\n",
       "  </thead>\n",
       "  <tbody>\n",
       "    <tr>\n",
       "      <th>4</th>\n",
       "      <td>_Cornelia_</td>\n",
       "      <td>F</td>\n",
       "      <td>37</td>\n",
       "      <td>Europe</td>\n",
       "      <td>Russia</td>\n",
       "      <td>2</td>\n",
       "      <td>1</td>\n",
       "      <td>99</td>\n",
       "      <td>5</td>\n",
       "      <td>0</td>\n",
       "      <td>Turkey, Algeria</td>\n",
       "      <td>0</td>\n",
       "    </tr>\n",
       "    <tr>\n",
       "      <th>16</th>\n",
       "      <td>21Ira21</td>\n",
       "      <td>F</td>\n",
       "      <td>23</td>\n",
       "      <td>Europe</td>\n",
       "      <td>Russia</td>\n",
       "      <td>2</td>\n",
       "      <td>3</td>\n",
       "      <td>0</td>\n",
       "      <td>1</td>\n",
       "      <td>0</td>\n",
       "      <td>Tunisia, Albania, Algeria, Azerbaijan, Iran, I...</td>\n",
       "      <td>0</td>\n",
       "    </tr>\n",
       "    <tr>\n",
       "      <th>17</th>\n",
       "      <td>221Lea8</td>\n",
       "      <td>F</td>\n",
       "      <td>23</td>\n",
       "      <td>North America</td>\n",
       "      <td>Mexico</td>\n",
       "      <td>2</td>\n",
       "      <td>0</td>\n",
       "      <td>99</td>\n",
       "      <td>2</td>\n",
       "      <td>Africa, Europe, North America</td>\n",
       "      <td>Turkey, Pakistan, India</td>\n",
       "      <td>0</td>\n",
       "    </tr>\n",
       "    <tr>\n",
       "      <th>22</th>\n",
       "      <td>A.Amelle</td>\n",
       "      <td>F</td>\n",
       "      <td>37</td>\n",
       "      <td>Africa</td>\n",
       "      <td>Algeria</td>\n",
       "      <td>2</td>\n",
       "      <td>1</td>\n",
       "      <td>99</td>\n",
       "      <td>1</td>\n",
       "      <td>Africa</td>\n",
       "      <td>India, Iran, Iraq, Israel, Turkey, Algeria</td>\n",
       "      <td>0</td>\n",
       "    </tr>\n",
       "    <tr>\n",
       "      <th>23</th>\n",
       "      <td>A_sofie613</td>\n",
       "      <td>F</td>\n",
       "      <td>26</td>\n",
       "      <td>Europe</td>\n",
       "      <td>Russia</td>\n",
       "      <td>1</td>\n",
       "      <td>2</td>\n",
       "      <td>99</td>\n",
       "      <td>1</td>\n",
       "      <td>0</td>\n",
       "      <td>Indonesia, Algeria, Egypt, India, Pakistan</td>\n",
       "      <td>0</td>\n",
       "    </tr>\n",
       "  </tbody>\n",
       "</table>\n",
       "</div>"
      ],
      "text/plain": [
       "      username gender  age      continent  country  lang_spoken  \\\n",
       "4   _Cornelia_      F   37         Europe   Russia            2   \n",
       "16     21Ira21      F   23         Europe   Russia            2   \n",
       "17     221Lea8      F   23  North America   Mexico            2   \n",
       "22    A.Amelle      F   37         Africa  Algeria            2   \n",
       "23  A_sofie613      F   26         Europe   Russia            1   \n",
       "\n",
       "    lang_learning  status  acct_age              blocked_continent  \\\n",
       "4               1      99         5                              0   \n",
       "16              3       0         1                              0   \n",
       "17              0      99         2  Africa, Europe, North America   \n",
       "22              1      99         1                         Africa   \n",
       "23              2      99         1                              0   \n",
       "\n",
       "                                      blocked_country blocked_sex  \n",
       "4                                     Turkey, Algeria           0  \n",
       "16  Tunisia, Albania, Algeria, Azerbaijan, Iran, I...           0  \n",
       "17                            Turkey, Pakistan, India           0  \n",
       "22         India, Iran, Iraq, Israel, Turkey, Algeria           0  \n",
       "23         Indonesia, Algeria, Egypt, India, Pakistan           0  "
      ]
     },
     "execution_count": 21,
     "metadata": {},
     "output_type": "execute_result"
    }
   ],
   "source": [
    "b_females = females.query(\"blocked_country !='0'\")\n",
    "b_females.head()"
   ]
  },
  {
   "cell_type": "code",
   "execution_count": 22,
   "id": "f28a0aee",
   "metadata": {},
   "outputs": [
    {
     "data": {
      "text/plain": [
       "392"
      ]
     },
     "execution_count": 22,
     "metadata": {},
     "output_type": "execute_result"
    }
   ],
   "source": [
    "b_females['username'].nunique()"
   ]
  },
  {
   "cell_type": "code",
   "execution_count": 23,
   "id": "1200a7ca",
   "metadata": {},
   "outputs": [
    {
     "data": {
      "text/html": [
       "<div>\n",
       "<style scoped>\n",
       "    .dataframe tbody tr th:only-of-type {\n",
       "        vertical-align: middle;\n",
       "    }\n",
       "\n",
       "    .dataframe tbody tr th {\n",
       "        vertical-align: top;\n",
       "    }\n",
       "\n",
       "    .dataframe thead th {\n",
       "        text-align: right;\n",
       "    }\n",
       "</style>\n",
       "<table border=\"1\" class=\"dataframe\">\n",
       "  <thead>\n",
       "    <tr style=\"text-align: right;\">\n",
       "      <th></th>\n",
       "      <th>username</th>\n",
       "      <th>gender</th>\n",
       "      <th>age</th>\n",
       "      <th>continent</th>\n",
       "      <th>country</th>\n",
       "      <th>lang_spoken</th>\n",
       "      <th>lang_learning</th>\n",
       "      <th>status</th>\n",
       "      <th>acct_age</th>\n",
       "      <th>blocked_continent</th>\n",
       "      <th>blocked_country</th>\n",
       "      <th>blocked_sex</th>\n",
       "    </tr>\n",
       "  </thead>\n",
       "  <tbody>\n",
       "    <tr>\n",
       "      <th>0</th>\n",
       "      <td>14</td>\n",
       "      <td>M</td>\n",
       "      <td>32</td>\n",
       "      <td>North America</td>\n",
       "      <td>United States</td>\n",
       "      <td>4</td>\n",
       "      <td>0</td>\n",
       "      <td>0</td>\n",
       "      <td>12</td>\n",
       "      <td>Africa</td>\n",
       "      <td>0</td>\n",
       "      <td>0</td>\n",
       "    </tr>\n",
       "    <tr>\n",
       "      <th>6</th>\n",
       "      <td>_Vad1mus_</td>\n",
       "      <td>M</td>\n",
       "      <td>42</td>\n",
       "      <td>Europe</td>\n",
       "      <td>Russia</td>\n",
       "      <td>1</td>\n",
       "      <td>1</td>\n",
       "      <td>99</td>\n",
       "      <td>8</td>\n",
       "      <td>0</td>\n",
       "      <td>0</td>\n",
       "      <td>0</td>\n",
       "    </tr>\n",
       "    <tr>\n",
       "      <th>8</th>\n",
       "      <td>0801keiici</td>\n",
       "      <td>M</td>\n",
       "      <td>52</td>\n",
       "      <td>Asia</td>\n",
       "      <td>Japan</td>\n",
       "      <td>1</td>\n",
       "      <td>1</td>\n",
       "      <td>0</td>\n",
       "      <td>1</td>\n",
       "      <td>0</td>\n",
       "      <td>0</td>\n",
       "      <td>0</td>\n",
       "    </tr>\n",
       "    <tr>\n",
       "      <th>9</th>\n",
       "      <td>0bito</td>\n",
       "      <td>M</td>\n",
       "      <td>24</td>\n",
       "      <td>Europe</td>\n",
       "      <td>France</td>\n",
       "      <td>5</td>\n",
       "      <td>0</td>\n",
       "      <td>99</td>\n",
       "      <td>7</td>\n",
       "      <td>0</td>\n",
       "      <td>0</td>\n",
       "      <td>0</td>\n",
       "    </tr>\n",
       "    <tr>\n",
       "      <th>13</th>\n",
       "      <td>15mAnOj</td>\n",
       "      <td>M</td>\n",
       "      <td>35</td>\n",
       "      <td>Asia</td>\n",
       "      <td>India</td>\n",
       "      <td>3</td>\n",
       "      <td>2</td>\n",
       "      <td>0</td>\n",
       "      <td>1</td>\n",
       "      <td>0</td>\n",
       "      <td>Oman</td>\n",
       "      <td>0</td>\n",
       "    </tr>\n",
       "  </tbody>\n",
       "</table>\n",
       "</div>"
      ],
      "text/plain": [
       "      username gender  age      continent        country  lang_spoken  \\\n",
       "0           14      M   32  North America  United States            4   \n",
       "6    _Vad1mus_      M   42         Europe         Russia            1   \n",
       "8   0801keiici      M   52           Asia          Japan            1   \n",
       "9        0bito      M   24         Europe         France            5   \n",
       "13     15mAnOj      M   35           Asia          India            3   \n",
       "\n",
       "    lang_learning  status  acct_age blocked_continent blocked_country  \\\n",
       "0               0       0        12            Africa               0   \n",
       "6               1      99         8                 0               0   \n",
       "8               1       0         1                 0               0   \n",
       "9               0      99         7                 0               0   \n",
       "13              2       0         1                 0            Oman   \n",
       "\n",
       "   blocked_sex  \n",
       "0            0  \n",
       "6            0  \n",
       "8            0  \n",
       "9            0  \n",
       "13           0  "
      ]
     },
     "execution_count": 23,
     "metadata": {},
     "output_type": "execute_result"
    }
   ],
   "source": [
    "males = interpals.query(\"gender =='M'\")\n",
    "males.head()"
   ]
  },
  {
   "cell_type": "code",
   "execution_count": 24,
   "id": "93543aed",
   "metadata": {
    "scrolled": true
   },
   "outputs": [
    {
     "data": {
      "text/html": [
       "<div>\n",
       "<style scoped>\n",
       "    .dataframe tbody tr th:only-of-type {\n",
       "        vertical-align: middle;\n",
       "    }\n",
       "\n",
       "    .dataframe tbody tr th {\n",
       "        vertical-align: top;\n",
       "    }\n",
       "\n",
       "    .dataframe thead th {\n",
       "        text-align: right;\n",
       "    }\n",
       "</style>\n",
       "<table border=\"1\" class=\"dataframe\">\n",
       "  <thead>\n",
       "    <tr style=\"text-align: right;\">\n",
       "      <th></th>\n",
       "      <th>username</th>\n",
       "      <th>gender</th>\n",
       "      <th>age</th>\n",
       "      <th>continent</th>\n",
       "      <th>country</th>\n",
       "      <th>lang_spoken</th>\n",
       "      <th>lang_learning</th>\n",
       "      <th>status</th>\n",
       "      <th>acct_age</th>\n",
       "      <th>blocked_continent</th>\n",
       "      <th>blocked_country</th>\n",
       "      <th>blocked_sex</th>\n",
       "    </tr>\n",
       "  </thead>\n",
       "  <tbody>\n",
       "    <tr>\n",
       "      <th>13</th>\n",
       "      <td>15mAnOj</td>\n",
       "      <td>M</td>\n",
       "      <td>35</td>\n",
       "      <td>Asia</td>\n",
       "      <td>India</td>\n",
       "      <td>3</td>\n",
       "      <td>2</td>\n",
       "      <td>0</td>\n",
       "      <td>1</td>\n",
       "      <td>0</td>\n",
       "      <td>Oman</td>\n",
       "      <td>0</td>\n",
       "    </tr>\n",
       "    <tr>\n",
       "      <th>18</th>\n",
       "      <td>3Sky-blue6</td>\n",
       "      <td>M</td>\n",
       "      <td>46</td>\n",
       "      <td>Europe</td>\n",
       "      <td>United Kingdom</td>\n",
       "      <td>1</td>\n",
       "      <td>1</td>\n",
       "      <td>99</td>\n",
       "      <td>2</td>\n",
       "      <td>Africa</td>\n",
       "      <td>Philipines, China</td>\n",
       "      <td>0</td>\n",
       "    </tr>\n",
       "    <tr>\n",
       "      <th>30</th>\n",
       "      <td>AbaddoNZ</td>\n",
       "      <td>M</td>\n",
       "      <td>61</td>\n",
       "      <td>Australia</td>\n",
       "      <td>New Zealand</td>\n",
       "      <td>2</td>\n",
       "      <td>0</td>\n",
       "      <td>1</td>\n",
       "      <td>4</td>\n",
       "      <td>Africa, Europe, North America</td>\n",
       "      <td>New Zealand</td>\n",
       "      <td>M</td>\n",
       "    </tr>\n",
       "    <tr>\n",
       "      <th>49</th>\n",
       "      <td>AbuGhazi</td>\n",
       "      <td>M</td>\n",
       "      <td>33</td>\n",
       "      <td>North America</td>\n",
       "      <td>United States</td>\n",
       "      <td>3</td>\n",
       "      <td>7</td>\n",
       "      <td>1</td>\n",
       "      <td>3</td>\n",
       "      <td>0</td>\n",
       "      <td>Gambia</td>\n",
       "      <td>0</td>\n",
       "    </tr>\n",
       "    <tr>\n",
       "      <th>59</th>\n",
       "      <td>Adamzmuda</td>\n",
       "      <td>M</td>\n",
       "      <td>29</td>\n",
       "      <td>Europe</td>\n",
       "      <td>Poland</td>\n",
       "      <td>2</td>\n",
       "      <td>1</td>\n",
       "      <td>0</td>\n",
       "      <td>5</td>\n",
       "      <td>0</td>\n",
       "      <td>Russia</td>\n",
       "      <td>M</td>\n",
       "    </tr>\n",
       "  </tbody>\n",
       "</table>\n",
       "</div>"
      ],
      "text/plain": [
       "      username gender  age      continent         country  lang_spoken  \\\n",
       "13     15mAnOj      M   35           Asia           India            3   \n",
       "18  3Sky-blue6      M   46         Europe  United Kingdom            1   \n",
       "30    AbaddoNZ      M   61      Australia     New Zealand            2   \n",
       "49    AbuGhazi      M   33  North America   United States            3   \n",
       "59   Adamzmuda      M   29         Europe          Poland            2   \n",
       "\n",
       "    lang_learning  status  acct_age              blocked_continent  \\\n",
       "13              2       0         1                              0   \n",
       "18              1      99         2                         Africa   \n",
       "30              0       1         4  Africa, Europe, North America   \n",
       "49              7       1         3                              0   \n",
       "59              1       0         5                              0   \n",
       "\n",
       "      blocked_country blocked_sex  \n",
       "13               Oman           0  \n",
       "18  Philipines, China           0  \n",
       "30        New Zealand           M  \n",
       "49             Gambia           0  \n",
       "59             Russia           M  "
      ]
     },
     "execution_count": 24,
     "metadata": {},
     "output_type": "execute_result"
    }
   ],
   "source": [
    "b_males = males.query(\"blocked_country !='0'\")\n",
    "b_males.head()"
   ]
  },
  {
   "cell_type": "code",
   "execution_count": 25,
   "id": "5bf72cb7",
   "metadata": {},
   "outputs": [
    {
     "data": {
      "text/plain": [
       "160"
      ]
     },
     "execution_count": 25,
     "metadata": {},
     "output_type": "execute_result"
    }
   ],
   "source": [
    "b_males['username'].nunique()"
   ]
  },
  {
   "cell_type": "markdown",
   "id": "016aeca4",
   "metadata": {},
   "source": [
    "Of the 552 users that blocked at least one country, <b>392</b> are Females and <b>160</b> are Males"
   ]
  },
  {
   "cell_type": "markdown",
   "id": "c369205d",
   "metadata": {},
   "source": [
    "Next, we create a <b>pie chart</b> to show by proportion, how users blocked countries, based on their gender.\n",
    "<p>We begin by importing the matplotlib library</p>"
   ]
  },
  {
   "cell_type": "code",
   "execution_count": 24,
   "id": "b14b04ba",
   "metadata": {},
   "outputs": [],
   "source": [
    "import matplotlib.pyplot as plt"
   ]
  },
  {
   "cell_type": "code",
   "execution_count": 36,
   "id": "1f269bf8",
   "metadata": {
    "scrolled": true
   },
   "outputs": [
    {
     "data": {
      "text/plain": [
       "<AxesSubplot:title={'center':'Distribution of Profiles that blocked at least one country'}, ylabel='None'>"
      ]
     },
     "execution_count": 36,
     "metadata": {},
     "output_type": "execute_result"
    },
    {
     "data": {
      "image/png": "[encoded data removed]",
      "text/plain": [
       "<Figure size 432x288 with 1 Axes>"
      ]
     },
     "metadata": {},
     "output_type": "display_data"
    }
   ],
   "source": [
    "\n",
    "blockedCountries.groupby(['gender']).size().plot.pie(title = \"Distribution of Profiles that blocked at least one country\",\n",
    "                                                     autopct=\"%.2f%%\", \n",
    "                                                     fontsize=16, radius = 1.3, colors=['gold','blue','green'])"
   ]
  },
  {
   "cell_type": "code",
   "execution_count": 26,
   "id": "c81f2d5e",
   "metadata": {
    "scrolled": false
   },
   "outputs": [
    {
     "data": {
      "text/html": [
       "<div>\n",
       "<style scoped>\n",
       "    .dataframe tbody tr th:only-of-type {\n",
       "        vertical-align: middle;\n",
       "    }\n",
       "\n",
       "    .dataframe tbody tr th {\n",
       "        vertical-align: top;\n",
       "    }\n",
       "\n",
       "    .dataframe thead th {\n",
       "        text-align: right;\n",
       "    }\n",
       "</style>\n",
       "<table border=\"1\" class=\"dataframe\">\n",
       "  <thead>\n",
       "    <tr style=\"text-align: right;\">\n",
       "      <th></th>\n",
       "      <th>username</th>\n",
       "      <th>gender</th>\n",
       "      <th>age</th>\n",
       "      <th>continent</th>\n",
       "      <th>country</th>\n",
       "      <th>lang_spoken</th>\n",
       "      <th>lang_learning</th>\n",
       "      <th>status</th>\n",
       "      <th>acct_age</th>\n",
       "      <th>blocked_continent</th>\n",
       "      <th>blocked_country</th>\n",
       "      <th>blocked_sex</th>\n",
       "    </tr>\n",
       "  </thead>\n",
       "  <tbody>\n",
       "    <tr>\n",
       "      <th>4</th>\n",
       "      <td>_Cornelia_</td>\n",
       "      <td>F</td>\n",
       "      <td>37</td>\n",
       "      <td>Europe</td>\n",
       "      <td>Russia</td>\n",
       "      <td>2</td>\n",
       "      <td>1</td>\n",
       "      <td>99</td>\n",
       "      <td>5</td>\n",
       "      <td>0</td>\n",
       "      <td>Turkey, Algeria</td>\n",
       "      <td>0</td>\n",
       "    </tr>\n",
       "    <tr>\n",
       "      <th>13</th>\n",
       "      <td>15mAnOj</td>\n",
       "      <td>M</td>\n",
       "      <td>35</td>\n",
       "      <td>Asia</td>\n",
       "      <td>India</td>\n",
       "      <td>3</td>\n",
       "      <td>2</td>\n",
       "      <td>0</td>\n",
       "      <td>1</td>\n",
       "      <td>0</td>\n",
       "      <td>Oman</td>\n",
       "      <td>0</td>\n",
       "    </tr>\n",
       "    <tr>\n",
       "      <th>16</th>\n",
       "      <td>21Ira21</td>\n",
       "      <td>F</td>\n",
       "      <td>23</td>\n",
       "      <td>Europe</td>\n",
       "      <td>Russia</td>\n",
       "      <td>2</td>\n",
       "      <td>3</td>\n",
       "      <td>0</td>\n",
       "      <td>1</td>\n",
       "      <td>0</td>\n",
       "      <td>Tunisia, Albania, Algeria, Azerbaijan, Iran, I...</td>\n",
       "      <td>0</td>\n",
       "    </tr>\n",
       "    <tr>\n",
       "      <th>17</th>\n",
       "      <td>221Lea8</td>\n",
       "      <td>F</td>\n",
       "      <td>23</td>\n",
       "      <td>North America</td>\n",
       "      <td>Mexico</td>\n",
       "      <td>2</td>\n",
       "      <td>0</td>\n",
       "      <td>99</td>\n",
       "      <td>2</td>\n",
       "      <td>Africa, Europe, North America</td>\n",
       "      <td>Turkey, Pakistan, India</td>\n",
       "      <td>0</td>\n",
       "    </tr>\n",
       "    <tr>\n",
       "      <th>18</th>\n",
       "      <td>3Sky-blue6</td>\n",
       "      <td>M</td>\n",
       "      <td>46</td>\n",
       "      <td>Europe</td>\n",
       "      <td>United Kingdom</td>\n",
       "      <td>1</td>\n",
       "      <td>1</td>\n",
       "      <td>99</td>\n",
       "      <td>2</td>\n",
       "      <td>Africa</td>\n",
       "      <td>Philipines, China</td>\n",
       "      <td>0</td>\n",
       "    </tr>\n",
       "  </tbody>\n",
       "</table>\n",
       "</div>"
      ],
      "text/plain": [
       "      username gender  age      continent         country  lang_spoken  \\\n",
       "4   _Cornelia_      F   37         Europe          Russia            2   \n",
       "13     15mAnOj      M   35           Asia           India            3   \n",
       "16     21Ira21      F   23         Europe          Russia            2   \n",
       "17     221Lea8      F   23  North America          Mexico            2   \n",
       "18  3Sky-blue6      M   46         Europe  United Kingdom            1   \n",
       "\n",
       "    lang_learning  status  acct_age              blocked_continent  \\\n",
       "4               1      99         5                              0   \n",
       "13              2       0         1                              0   \n",
       "16              3       0         1                              0   \n",
       "17              0      99         2  Africa, Europe, North America   \n",
       "18              1      99         2                         Africa   \n",
       "\n",
       "                                      blocked_country blocked_sex  \n",
       "4                                     Turkey, Algeria           0  \n",
       "13                                               Oman           0  \n",
       "16  Tunisia, Albania, Algeria, Azerbaijan, Iran, I...           0  \n",
       "17                            Turkey, Pakistan, India           0  \n",
       "18                                  Philipines, China           0  "
      ]
     },
     "execution_count": 26,
     "metadata": {},
     "output_type": "execute_result"
    }
   ],
   "source": [
    "blockedCountries = blockedCountries.explode(['blocked_country'])\n",
    "blockedCountries.head()"
   ]
  },
  {
   "cell_type": "code",
   "execution_count": 27,
   "id": "61166b94",
   "metadata": {},
   "outputs": [],
   "source": [
    "text = blockedCountries[['username', 'gender', 'continent', 'country', 'blocked_continent', 'blocked_country']]"
   ]
  },
  {
   "cell_type": "code",
   "execution_count": 28,
   "id": "00bd5a31",
   "metadata": {},
   "outputs": [
    {
     "data": {
      "text/html": [
       "<div>\n",
       "<style scoped>\n",
       "    .dataframe tbody tr th:only-of-type {\n",
       "        vertical-align: middle;\n",
       "    }\n",
       "\n",
       "    .dataframe tbody tr th {\n",
       "        vertical-align: top;\n",
       "    }\n",
       "\n",
       "    .dataframe thead th {\n",
       "        text-align: right;\n",
       "    }\n",
       "</style>\n",
       "<table border=\"1\" class=\"dataframe\">\n",
       "  <thead>\n",
       "    <tr style=\"text-align: right;\">\n",
       "      <th></th>\n",
       "      <th>username</th>\n",
       "      <th>gender</th>\n",
       "      <th>continent</th>\n",
       "      <th>country</th>\n",
       "      <th>blocked_continent</th>\n",
       "      <th>blocked_country</th>\n",
       "    </tr>\n",
       "  </thead>\n",
       "  <tbody>\n",
       "    <tr>\n",
       "      <th>4</th>\n",
       "      <td>_Cornelia_</td>\n",
       "      <td>F</td>\n",
       "      <td>Europe</td>\n",
       "      <td>Russia</td>\n",
       "      <td>0</td>\n",
       "      <td>Turkey, Algeria</td>\n",
       "    </tr>\n",
       "    <tr>\n",
       "      <th>13</th>\n",
       "      <td>15mAnOj</td>\n",
       "      <td>M</td>\n",
       "      <td>Asia</td>\n",
       "      <td>India</td>\n",
       "      <td>0</td>\n",
       "      <td>Oman</td>\n",
       "    </tr>\n",
       "    <tr>\n",
       "      <th>16</th>\n",
       "      <td>21Ira21</td>\n",
       "      <td>F</td>\n",
       "      <td>Europe</td>\n",
       "      <td>Russia</td>\n",
       "      <td>0</td>\n",
       "      <td>Tunisia, Albania, Algeria, Azerbaijan, Iran, I...</td>\n",
       "    </tr>\n",
       "    <tr>\n",
       "      <th>17</th>\n",
       "      <td>221Lea8</td>\n",
       "      <td>F</td>\n",
       "      <td>North America</td>\n",
       "      <td>Mexico</td>\n",
       "      <td>Africa, Europe, North America</td>\n",
       "      <td>Turkey, Pakistan, India</td>\n",
       "    </tr>\n",
       "    <tr>\n",
       "      <th>18</th>\n",
       "      <td>3Sky-blue6</td>\n",
       "      <td>M</td>\n",
       "      <td>Europe</td>\n",
       "      <td>United Kingdom</td>\n",
       "      <td>Africa</td>\n",
       "      <td>Philipines, China</td>\n",
       "    </tr>\n",
       "  </tbody>\n",
       "</table>\n",
       "</div>"
      ],
      "text/plain": [
       "      username gender      continent         country  \\\n",
       "4   _Cornelia_      F         Europe          Russia   \n",
       "13     15mAnOj      M           Asia           India   \n",
       "16     21Ira21      F         Europe          Russia   \n",
       "17     221Lea8      F  North America          Mexico   \n",
       "18  3Sky-blue6      M         Europe  United Kingdom   \n",
       "\n",
       "                blocked_continent  \\\n",
       "4                               0   \n",
       "13                              0   \n",
       "16                              0   \n",
       "17  Africa, Europe, North America   \n",
       "18                         Africa   \n",
       "\n",
       "                                      blocked_country  \n",
       "4                                     Turkey, Algeria  \n",
       "13                                               Oman  \n",
       "16  Tunisia, Albania, Algeria, Azerbaijan, Iran, I...  \n",
       "17                            Turkey, Pakistan, India  \n",
       "18                                  Philipines, China  "
      ]
     },
     "execution_count": 28,
     "metadata": {},
     "output_type": "execute_result"
    }
   ],
   "source": [
    "text.explode(['blocked_country']).head()"
   ]
  },
  {
   "cell_type": "code",
   "execution_count": 29,
   "id": "54fd53f3",
   "metadata": {},
   "outputs": [],
   "source": [
    "#The new datasaved was saved as a .csv file using the _to.csv function in the pandas librabry\n",
    "text.to_csv('test.csv')"
   ]
  },
  {
   "cell_type": "markdown",
   "id": "286fe999",
   "metadata": {},
   "source": [
    "The file is further processed in excel to a list of all blocked countries and saved as a text file: countries_list.txt"
   ]
  },
  {
   "cell_type": "markdown",
   "id": "0e0b4d12",
   "metadata": {},
   "source": [
    "Lastly, we generate a wordcloud to show the most blocked countries\n",
    "\n",
    "<p><b>What are wordclouds?</b></p> A wordcloud is a depiction of the importance of a certain word in a body text. The more a word appears in the textual data, the bolder the word will appear in the wordcloud. Tha higher the frequency of occurence of a word, the bolder it appears in a wordcloud."
   ]
  },
  {
   "cell_type": "code",
   "execution_count": 30,
   "id": "e0b262e2",
   "metadata": {},
   "outputs": [
    {
     "name": "stdout",
     "output_type": "stream",
     "text": [
      "Defaulting to user installation because normal site-packages is not writeable\n",
      "Requirement already satisfied: wordcloud in c:\\users\\admin\\appdata\\roaming\\python\\python39\\site-packages (1.8.2.2)\n",
      "Requirement already satisfied: pillow in c:\\programdata\\anaconda3\\lib\\site-packages (from wordcloud) (9.0.1)\n",
      "Requirement already satisfied: matplotlib in c:\\programdata\\anaconda3\\lib\\site-packages (from wordcloud) (3.5.1)\n",
      "Requirement already satisfied: numpy>=1.6.1 in c:\\programdata\\anaconda3\\lib\\site-packages (from wordcloud) (1.21.5)\n",
      "Requirement already satisfied: pyparsing>=2.2.1 in c:\\programdata\\anaconda3\\lib\\site-packages (from matplotlib->wordcloud) (3.0.4)\n",
      "Requirement already satisfied: python-dateutil>=2.7 in c:\\programdata\\anaconda3\\lib\\site-packages (from matplotlib->wordcloud) (2.8.2)\n",
      "Requirement already satisfied: packaging>=20.0 in c:\\programdata\\anaconda3\\lib\\site-packages (from matplotlib->wordcloud) (21.3)\n",
      "Requirement already satisfied: fonttools>=4.22.0 in c:\\programdata\\anaconda3\\lib\\site-packages (from matplotlib->wordcloud) (4.25.0)\n",
      "Requirement already satisfied: kiwisolver>=1.0.1 in c:\\programdata\\anaconda3\\lib\\site-packages (from matplotlib->wordcloud) (1.3.2)\n",
      "Requirement already satisfied: cycler>=0.10 in c:\\programdata\\anaconda3\\lib\\site-packages (from matplotlib->wordcloud) (0.11.0)\n",
      "Requirement already satisfied: six>=1.5 in c:\\programdata\\anaconda3\\lib\\site-packages (from python-dateutil>=2.7->matplotlib->wordcloud) (1.16.0)\n",
      "Note: you may need to restart the kernel to use updated packages.\n"
     ]
    }
   ],
   "source": [
    "pip install wordcloud"
   ]
  },
  {
   "cell_type": "code",
   "execution_count": 31,
   "id": "53bd1b13",
   "metadata": {},
   "outputs": [],
   "source": [
    "from wordcloud import WordCloud\n",
    "from wordcloud import ImageColorGenerator\n",
    "from wordcloud import STOPWORDS\n",
    "import matplotlib.pyplot as plt"
   ]
  },
  {
   "cell_type": "code",
   "execution_count": 32,
   "id": "e8be9d5f",
   "metadata": {},
   "outputs": [],
   "source": [
    "import sys\n",
    "import os"
   ]
  },
  {
   "cell_type": "code",
   "execution_count": 33,
   "id": "a30203a2",
   "metadata": {},
   "outputs": [],
   "source": [
    "text_b = open('countries_list.txt', mode='r').read()"
   ]
  },
  {
   "cell_type": "code",
   "execution_count": 35,
   "id": "fc3cba07",
   "metadata": {
    "scrolled": true
   },
   "outputs": [
    {
     "data": {
      "image/png": "[encoded data removed]",
      "text/plain": [
       "<Figure size 432x288 with 1 Axes>"
      ]
     },
     "metadata": {
      "needs_background": "light"
     },
     "output_type": "display_data"
    }
   ],
   "source": [
    "wordcloud = WordCloud(background_color=\"white\", collocations = False, height=4000, width=6000).generate(text_b)\n",
    "plt.imshow(wordcloud)\n",
    "plt.imshow(wordcloud)\n",
    "plt.tight_layout(pad=0)\n",
    "plt.axis(\"off\")\n",
    "plt.show()"
   ]
  },
  {
   "cell_type": "markdown",
   "id": "2395a1f6",
   "metadata": {},
   "source": [
    "From the wordcloud above, we can conclude that the most blocked countries include India, Turkey, Pakistan, Afghanistan, Algeria, Morocco, Indonesia, Ghana, Iran, Egypt and my own Nigeria!\n",
    "\n",
    "<p>I guess that goes to explain why I come across lots of profile that I can't connect with. I can only imagine how much more frustrating it is for my friends from Turkey, India, Algeria and Pakistan.</p>\n",
    "\n",
    "\n",
    "\n",
    "<p>The next question is why. <font color='red'>Why are these countries blocked more often?</font> What must have informed the decisions of users to block certain countries?  We will look into these questions soon!</p>"
   ]
  }
 ],
 "metadata": {
  "celltoolbar": "Raw Cell Format",
  "kernelspec": {
   "display_name": "Python 3 (ipykernel)",
   "language": "python",
   "name": "python3"
  },
  "language_info": {
   "codemirror_mode": {
    "name": "ipython",
    "version": 3
   },
   "file_extension": ".py",
   "mimetype": "text/x-python",
   "name": "python",
   "nbconvert_exporter": "python",
   "pygments_lexer": "ipython3",
   "version": "3.9.12"
  }
 },
 "nbformat": 4,
 "nbformat_minor": 5
}
